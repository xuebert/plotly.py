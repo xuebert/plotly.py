{
 "cells": [
  {
   "cell_type": "code",
   "execution_count": 38,
   "id": "444feb98-d5f2-4362-b60e-4a7a69e0723b",
   "metadata": {
    "scrolled": true,
    "tags": []
   },
   "outputs": [
    {
     "data": {
      "text/html": [
       "<div>\n",
       "<style scoped>\n",
       "    .dataframe tbody tr th:only-of-type {\n",
       "        vertical-align: middle;\n",
       "    }\n",
       "\n",
       "    .dataframe tbody tr th {\n",
       "        vertical-align: top;\n",
       "    }\n",
       "\n",
       "    .dataframe thead th {\n",
       "        text-align: right;\n",
       "    }\n",
       "</style>\n",
       "<table border=\"1\" class=\"dataframe\">\n",
       "  <thead>\n",
       "    <tr style=\"text-align: right;\">\n",
       "      <th></th>\n",
       "      <th>concentration</th>\n",
       "      <th>size</th>\n",
       "      <th>orientation</th>\n",
       "      <th>tail_species</th>\n",
       "      <th>polymer_species</th>\n",
       "      <th>polymer_density</th>\n",
       "      <th>value</th>\n",
       "    </tr>\n",
       "  </thead>\n",
       "  <tbody>\n",
       "    <tr>\n",
       "      <th>0</th>\n",
       "      <td>1</td>\n",
       "      <td>100</td>\n",
       "      <td>0</td>\n",
       "      <td>tail1</td>\n",
       "      <td>PO</td>\n",
       "      <td>0</td>\n",
       "      <td>101.41</td>\n",
       "    </tr>\n",
       "    <tr>\n",
       "      <th>1</th>\n",
       "      <td>1</td>\n",
       "      <td>100</td>\n",
       "      <td>0</td>\n",
       "      <td>tail1</td>\n",
       "      <td>PO</td>\n",
       "      <td>1</td>\n",
       "      <td>99.15</td>\n",
       "    </tr>\n",
       "    <tr>\n",
       "      <th>2</th>\n",
       "      <td>1</td>\n",
       "      <td>100</td>\n",
       "      <td>0</td>\n",
       "      <td>tail1</td>\n",
       "      <td>PO</td>\n",
       "      <td>10</td>\n",
       "      <td>85.93</td>\n",
       "    </tr>\n",
       "    <tr>\n",
       "      <th>3</th>\n",
       "      <td>1</td>\n",
       "      <td>100</td>\n",
       "      <td>0</td>\n",
       "      <td>tail1</td>\n",
       "      <td>PS</td>\n",
       "      <td>0</td>\n",
       "      <td>135.23</td>\n",
       "    </tr>\n",
       "    <tr>\n",
       "      <th>4</th>\n",
       "      <td>1</td>\n",
       "      <td>100</td>\n",
       "      <td>0</td>\n",
       "      <td>tail1</td>\n",
       "      <td>PS</td>\n",
       "      <td>1</td>\n",
       "      <td>174.11</td>\n",
       "    </tr>\n",
       "    <tr>\n",
       "      <th>...</th>\n",
       "      <td>...</td>\n",
       "      <td>...</td>\n",
       "      <td>...</td>\n",
       "      <td>...</td>\n",
       "      <td>...</td>\n",
       "      <td>...</td>\n",
       "      <td>...</td>\n",
       "    </tr>\n",
       "    <tr>\n",
       "      <th>283</th>\n",
       "      <td>1000</td>\n",
       "      <td>200</td>\n",
       "      <td>1</td>\n",
       "      <td>tail3</td>\n",
       "      <td>PO</td>\n",
       "      <td>1</td>\n",
       "      <td>178.22</td>\n",
       "    </tr>\n",
       "    <tr>\n",
       "      <th>284</th>\n",
       "      <td>1000</td>\n",
       "      <td>200</td>\n",
       "      <td>1</td>\n",
       "      <td>tail3</td>\n",
       "      <td>PO</td>\n",
       "      <td>10</td>\n",
       "      <td>163.31</td>\n",
       "    </tr>\n",
       "    <tr>\n",
       "      <th>285</th>\n",
       "      <td>1000</td>\n",
       "      <td>200</td>\n",
       "      <td>1</td>\n",
       "      <td>tail3</td>\n",
       "      <td>PS</td>\n",
       "      <td>0</td>\n",
       "      <td>189.49</td>\n",
       "    </tr>\n",
       "    <tr>\n",
       "      <th>286</th>\n",
       "      <td>1000</td>\n",
       "      <td>200</td>\n",
       "      <td>1</td>\n",
       "      <td>tail3</td>\n",
       "      <td>PS</td>\n",
       "      <td>1</td>\n",
       "      <td>242.13</td>\n",
       "    </tr>\n",
       "    <tr>\n",
       "      <th>287</th>\n",
       "      <td>1000</td>\n",
       "      <td>200</td>\n",
       "      <td>1</td>\n",
       "      <td>tail3</td>\n",
       "      <td>PS</td>\n",
       "      <td>10</td>\n",
       "      <td>185.47</td>\n",
       "    </tr>\n",
       "  </tbody>\n",
       "</table>\n",
       "<p>288 rows × 7 columns</p>\n",
       "</div>"
      ],
      "text/plain": [
       "     concentration  size  orientation tail_species polymer_species  \\\n",
       "0                1   100            0        tail1              PO   \n",
       "1                1   100            0        tail1              PO   \n",
       "2                1   100            0        tail1              PO   \n",
       "3                1   100            0        tail1              PS   \n",
       "4                1   100            0        tail1              PS   \n",
       "..             ...   ...          ...          ...             ...   \n",
       "283           1000   200            1        tail3              PO   \n",
       "284           1000   200            1        tail3              PO   \n",
       "285           1000   200            1        tail3              PS   \n",
       "286           1000   200            1        tail3              PS   \n",
       "287           1000   200            1        tail3              PS   \n",
       "\n",
       "     polymer_density   value  \n",
       "0                  0  101.41  \n",
       "1                  1   99.15  \n",
       "2                 10   85.93  \n",
       "3                  0  135.23  \n",
       "4                  1  174.11  \n",
       "..               ...     ...  \n",
       "283                1  178.22  \n",
       "284               10  163.31  \n",
       "285                0  189.49  \n",
       "286                1  242.13  \n",
       "287               10  185.47  \n",
       "\n",
       "[288 rows x 7 columns]"
      ]
     },
     "execution_count": 38,
     "metadata": {},
     "output_type": "execute_result"
    }
   ],
   "source": [
    "import plotly.graph_objects as go\n",
    "import pandas as pd\n",
    "import numpy as np\n",
    "from itertools import product\n",
    "\n",
    "base_features = dict(\n",
    "    concentration=[1, 10, 100, 1000],\n",
    "    size=[100, 200],                  \n",
    "    orientation=[0, 1],  \n",
    "    tail_species=['tail1', 'tail2', 'tail3'], \n",
    "    polymer_species=['PO', 'PS'],\n",
    "    polymer_density=[0, 1, 10]\n",
    ")\n",
    "\n",
    "long_df = pd.DataFrame(list(product(*base_features.values())), columns = base_features.keys())\n",
    "np.random.seed(seed = 123456)\n",
    "long_df['value'] = np.random.normal(100, 3, long_df.shape[0])\n",
    "\n",
    "def modify_long_df(eval_statement, multiplier):\n",
    "    long_df.loc[long_df.eval(eval_statement), 'value'] = long_df.loc[long_df.eval(eval_statement), 'value'] * multiplier\n",
    "    \n",
    "modify_long_df('polymer_species==\"PS\"', 1.4)\n",
    "modify_long_df('tail_species==\"tail3\"', 1.1)\n",
    "modify_long_df('polymer_species==\"PS\" and size==200', 0.8)\n",
    "modify_long_df('polymer_species==\"PS\" and polymer_density==1', 1.2)\n",
    "modify_long_df('polymer_density==10', 0.9)\n",
    "modify_long_df('concentration==10', 1.2)\n",
    "modify_long_df('concentration==100', 1.4)\n",
    "modify_long_df('concentration==1000', 1.6)\n",
    "long_df = long_df.convert_dtypes()\n",
    "long_df['value'] = long_df['value'].round(2)\n",
    "long_df"
   ]
  },
  {
   "cell_type": "code",
   "execution_count": 50,
   "id": "4426243e-b841-489f-bf70-bfca32f83a4c",
   "metadata": {
    "scrolled": true,
    "tags": []
   },
   "outputs": [
    {
     "data": {
      "text/html": [
       "<div>\n",
       "<style scoped>\n",
       "    .dataframe tbody tr th:only-of-type {\n",
       "        vertical-align: middle;\n",
       "    }\n",
       "\n",
       "    .dataframe tbody tr th {\n",
       "        vertical-align: top;\n",
       "    }\n",
       "\n",
       "    .dataframe thead th {\n",
       "        text-align: right;\n",
       "    }\n",
       "</style>\n",
       "<table border=\"1\" class=\"dataframe\">\n",
       "  <thead>\n",
       "    <tr style=\"text-align: right;\">\n",
       "      <th>col_plot_index</th>\n",
       "      <th>0</th>\n",
       "      <th>1</th>\n",
       "      <th>2</th>\n",
       "      <th>3</th>\n",
       "      <th>4</th>\n",
       "    </tr>\n",
       "    <tr>\n",
       "      <th>row_plot_index</th>\n",
       "      <th></th>\n",
       "      <th></th>\n",
       "      <th></th>\n",
       "      <th></th>\n",
       "      <th></th>\n",
       "    </tr>\n",
       "  </thead>\n",
       "  <tbody>\n",
       "    <tr>\n",
       "      <th>0</th>\n",
       "      <td>101.41</td>\n",
       "      <td>100.36</td>\n",
       "      <td>112.38</td>\n",
       "      <td>101.07</td>\n",
       "      <td>100.83</td>\n",
       "    </tr>\n",
       "    <tr>\n",
       "      <th>1</th>\n",
       "      <td>100.83</td>\n",
       "      <td>101.21</td>\n",
       "      <td>105.56</td>\n",
       "      <td>96.49</td>\n",
       "      <td>99.77</td>\n",
       "    </tr>\n",
       "    <tr>\n",
       "      <th>2</th>\n",
       "      <td>99.15</td>\n",
       "      <td>96.87</td>\n",
       "      <td>107.67</td>\n",
       "      <td>97.98</td>\n",
       "      <td>98.58</td>\n",
       "    </tr>\n",
       "    <tr>\n",
       "      <th>3</th>\n",
       "      <td>96.74</td>\n",
       "      <td>101.73</td>\n",
       "      <td>112.79</td>\n",
       "      <td>99.32</td>\n",
       "      <td>96.44</td>\n",
       "    </tr>\n",
       "    <tr>\n",
       "      <th>4</th>\n",
       "      <td>85.93</td>\n",
       "      <td>87.67</td>\n",
       "      <td>95.91</td>\n",
       "      <td>85.2</td>\n",
       "      <td>89.96</td>\n",
       "    </tr>\n",
       "  </tbody>\n",
       "</table>\n",
       "</div>"
      ],
      "text/plain": [
       "col_plot_index       0       1       2       3       4\n",
       "row_plot_index                                        \n",
       "0               101.41  100.36  112.38  101.07  100.83\n",
       "1               100.83  101.21  105.56   96.49   99.77\n",
       "2                99.15   96.87  107.67   97.98   98.58\n",
       "3                96.74  101.73  112.79   99.32   96.44\n",
       "4                85.93   87.67   95.91    85.2   89.96"
      ]
     },
     "execution_count": 50,
     "metadata": {},
     "output_type": "execute_result"
    }
   ],
   "source": [
    "from typing import List, Tuple\n",
    "from sortedcollections import OrderedSet\n",
    "\n",
    "def long_to_heat_df(long_df, feature_ordering: Tuple[List[int], List[int]] = None):\n",
    "    \n",
    "    # overall methodology:\n",
    "    # 1. Gather unique labels for rows/cols\n",
    "    # 2. Create label ordering for rows/cols, which defines the labels for each row in the plot\n",
    "    # 3. Create mapping from plot indices to long_df row indices\n",
    "    # 4. Combine with long_df label info\n",
    "    \n",
    "    # if feature ordering is specified, then take first half of features as rows, then other half as columns\n",
    "    if not feature_ordering:\n",
    "        # record index names, assume all columns are index except label\n",
    "        index_columns = list(OrderedSet(long_df.columns) - {'value'})\n",
    "        row_features = index_columns[:int(len(index_columns)/2)]\n",
    "        col_features = index_columns[int(len(index_columns)/2):]\n",
    "    else:\n",
    "        row_features, col_features = feature_ordering\n",
    "\n",
    "    long_df = long_df.copy()\n",
    "    long_df[row_features + col_features] = long_df[row_features + col_features].astype('string')\n",
    "    \n",
    "    # record unique label of each feature\n",
    "    row_sections = {x: list(long_df[x].unique()) for x in row_features}\n",
    "    col_sections = {x: list(long_df[x].unique()) for x in col_features}\n",
    "    \n",
    "    # create every combination of row/col label\n",
    "    row_labels = list(product(*row_sections.values()))\n",
    "    col_labels = list(product(*col_sections.values()))\n",
    "    \n",
    "    # create list of tuples of labels, defines the label for each row/col\n",
    "    # also include integer index, needed for merging with labels\n",
    "    row_labels = [x+(i,) for i,x in enumerate(row_labels)]\n",
    "    col_labels = [x+(i,) for i,x in enumerate(col_labels)]\n",
    "\n",
    "    # create mapping between the row label, the row index in the plot, and the original row index from long_df\n",
    "    row_labels_df = long_df[row_features].copy()\n",
    "    row_labels_df['long_df_index'] = range(row_labels_df.shape[0]) # add integer index\n",
    "    row_mapping_df = pd.DataFrame(row_labels, columns=row_features + ['row_plot_index'])\n",
    "    row_mapping_df = row_mapping_df.merge(row_labels_df)\n",
    "\n",
    "    # same but for col label, col index in plot, and the original row index in long_df\n",
    "    col_labels_df = long_df[col_features].copy()\n",
    "    col_labels_df['long_df_index'] = range(col_labels_df.shape[0])\n",
    "    col_mapping_df = pd.DataFrame(col_labels, columns=col_features + ['col_plot_index'])\n",
    "    col_mapping_df = col_mapping_df.merge(col_labels_df)\n",
    "    \n",
    "    # combine with long_df values\n",
    "    label_mapping_df = long_df[['value']].copy()\n",
    "    label_mapping_df['long_df_index'] = range(label_mapping_df.shape[0])\n",
    "    label_mapping_df = col_mapping_df.merge(row_mapping_df).merge(label_mapping_df)\n",
    "    \n",
    "    # label_mapping_df is in \"long\" form with columns like index_name, index_name, index_name, label\n",
    "    # convert to wide form for plotting as a heatmap\n",
    "    heat_df = pd.pivot_table(label_mapping_df, columns='col_plot_index', index='row_plot_index', values='value')\n",
    "    \n",
    "    label_mapping_df['hovertext'] = 'Value: ' + label_mapping_df['value'].astype('string')\n",
    "    for col in row_features + col_features:\n",
    "        label_mapping_df['hovertext'] += '<br>' + col + ': ' + label_mapping_df[col]\n",
    "    \n",
    "    hovertext_df = pd.pivot_table(label_mapping_df, columns='col_plot_index', index='row_plot_index', values='hovertext', aggfunc='first')\n",
    "    \n",
    "    return heat_df, label_mapping_df, hovertext_df, row_features, col_features\n",
    "\n",
    "feature_ordering = [['polymer_species', 'polymer_density', 'orientation'], ['concentration', 'size', 'tail_species']]\n",
    "heat_df, label_mapping_df, hovertext_df, row_features, col_features = long_to_heat_df(long_df, feature_ordering)\n",
    "heat_df.iloc[:5, :5]"
   ]
  },
  {
   "cell_type": "code",
   "execution_count": 51,
   "id": "56277158-b51c-44a2-95ee-1c484a1584d7",
   "metadata": {
    "scrolled": true,
    "tags": []
   },
   "outputs": [],
   "source": [
    "def _label_font_size(sizes = [9,10,12,14]):\n",
    "    for font_size in sizes:\n",
    "        yield font_size\n",
    "    yield font_size\n",
    "\n",
    "def get_label_info(features, label_mapping_df, row_label = True):\n",
    "    \n",
    "    groupby_col, mean_col = 'row_plot_index', 'col_plot_index'\n",
    "    if row_label:\n",
    "        groupby_col, mean_col = 'col_plot_index', 'row_plot_index'\n",
    "    \n",
    "    label_font_size = _label_font_size()\n",
    "    \n",
    "    label_info_df = list()\n",
    "    features = features[::-1] # go in backwards order, from lowest to highest levels\n",
    "    section_size = 1\n",
    "    for i, feature in enumerate(features):\n",
    "        new_df = label_mapping_df[[*features[i:], 'col_plot_index', 'row_plot_index']].groupby([*features[i:], groupby_col])[mean_col].mean().reset_index()\n",
    "        new_df.rename(columns={mean_col: 'label_coordinate', feature: 'label'}, inplace=True)\n",
    "        \n",
    "        new_df[['feature', 'feature_level', 'section_size', 'label_font_size']] = [feature, i, section_size, next(label_font_size)]\n",
    "        new_df = new_df[['feature', 'label', 'feature_level', 'label_coordinate', 'section_size', 'label_font_size']].drop_duplicates()\n",
    "\n",
    "        label_info_df.append(new_df)\n",
    "        section_size = section_size * new_df['label'].nunique()\n",
    "        \n",
    "    return pd.concat(label_info_df).reset_index(drop=True)"
   ]
  },
  {
   "cell_type": "code",
   "execution_count": 54,
   "id": "6b676b99-87e6-4dff-9846-c0a721e149c0",
   "metadata": {
    "tags": []
   },
   "outputs": [],
   "source": [
    "def dimensional_stacking(heat_df, hovertext_df, row_labels_df, col_labels_df, height = None, width = None, **heatmap_kwargs):\n",
    "    \n",
    "    dx_label, dy_label = 1/20, 1/12\n",
    "    \n",
    "    fig = go.Figure()\n",
    "    fig.add_trace(go.Heatmap(z=heat_df, hovertext=hovertext_df, hovertemplate='%{hovertext}', name='', hoverongaps = False, **heatmap_kwargs))\n",
    "    \n",
    "    # rough attempt to dynamically specify height/width\n",
    "    height = height or 200+heat_df.shape[0]*30\n",
    "    width = width or 100+heat_df.shape[1]*30\n",
    "\n",
    "    fig.update_layout(yaxis=dict(visible=False), xaxis=dict(visible=False), height=height, width=width, margin=dict(l=150, r=20, t=100, b=150))\n",
    "        \n",
    "    for i, feature_info in row_labels_df[['feature', 'feature_level']].drop_duplicates().iterrows():\n",
    "        fig.add_annotation(x=-dx_label*feature_info['feature_level'], y=0, \n",
    "                           showarrow=False, text=feature_info['feature'], textangle=-90, font=dict(size=14), \n",
    "                           align='right', valign='bottom', \n",
    "                           xanchor='right', yanchor='top', \n",
    "                           xref='paper', yref='paper')\n",
    "        \n",
    "    for _, row in row_labels_df.iterrows():\n",
    "        _, _, feature_level, label_coordinate, section_size, label_font_size = row\n",
    "        x = -feature_level*dx_label\n",
    "        \n",
    "        fig.add_annotation(x=x, y=label_coordinate, \n",
    "                           showarrow=False, text=str(row['label']), textangle=-90, font=dict(size=10),\n",
    "                           align='center', valign='bottom',\n",
    "                           xanchor='right', yanchor='bottom',\n",
    "                           xref='paper')\n",
    "        \n",
    "        if row['feature_level'] != 0:\n",
    "            fig.add_shape(type='line', x0=x, x1=x, y0=label_coordinate-section_size/2 + 0.1, y1=label_coordinate+section_size/2 - 0.1,\n",
    "                          line=dict(color='Black', width=0.5), \n",
    "                          xref='paper', yref='y')\n",
    "        \n",
    "        \n",
    "    for i, feature_info in col_labels_df[['feature', 'feature_level']].drop_duplicates().iterrows():\n",
    "        fig.add_annotation(x=0, y=1+(feature_info['feature_level'])*dy_label, \n",
    "                           showarrow=False, text=feature_info['feature'], font=dict(size=14), \n",
    "                           align='right', valign='bottom', \n",
    "                           xanchor='right', yanchor='bottom', \n",
    "                           xref='paper', yref='paper')\n",
    "\n",
    "    for _, row in col_labels_df.iterrows():\n",
    "        _, _, feature_level, label_coordinate, section_size, label_font_size = row\n",
    "        y = 1+feature_level*dy_label\n",
    "        \n",
    "        fig.add_annotation(x=label_coordinate, y=y, \n",
    "                           showarrow=False, text=str(row['label']), font=dict(size=label_font_size),\n",
    "                           align='center', valign='bottom', \n",
    "                           xanchor='center', yanchor='bottom',\n",
    "                           yref='paper')\n",
    "        \n",
    "        if row['feature_level'] != 0:\n",
    "            fig.add_shape(type='line', x0=label_coordinate-section_size/2 + 0.1, x1=label_coordinate+section_size/2 - 0.1, y0=y, y1=y,\n",
    "                          line=dict(color='Black', width=0.5), \n",
    "                          xref='x', yref='paper')\n",
    "        \n",
    "    return fig"
   ]
  },
  {
   "cell_type": "code",
   "execution_count": 55,
   "id": "241985b5-e5cd-454f-b3aa-b01af225f01c",
   "metadata": {
    "tags": []
   },
   "outputs": [
    {
     "data": {
      "application/vnd.plotly.v1+json": {
       "config": {
        "plotlyServerURL": "https://plot.ly"
       },
       "data": [
        {
         "hoverongaps": false,
         "hovertemplate": "%{hovertext}",
         "hovertext": [
          [
           "Value: 101.41<br>polymer_species: PO<br>polymer_density: 0<br>orientation: 0<br>concentration: 1<br>size: 100<br>tail_species: tail1",
           "Value: 100.36<br>polymer_species: PO<br>polymer_density: 0<br>orientation: 0<br>concentration: 1<br>size: 100<br>tail_species: tail2",
           "Value: 112.38<br>polymer_species: PO<br>polymer_density: 0<br>orientation: 0<br>concentration: 1<br>size: 100<br>tail_species: tail3",
           "Value: 101.07<br>polymer_species: PO<br>polymer_density: 0<br>orientation: 0<br>concentration: 1<br>size: 200<br>tail_species: tail1",
           "Value: 100.83<br>polymer_species: PO<br>polymer_density: 0<br>orientation: 0<br>concentration: 1<br>size: 200<br>tail_species: tail2",
           "Value: 112.96<br>polymer_species: PO<br>polymer_density: 0<br>orientation: 0<br>concentration: 1<br>size: 200<br>tail_species: tail3",
           "Value: 118.52<br>polymer_species: PO<br>polymer_density: 0<br>orientation: 0<br>concentration: 10<br>size: 100<br>tail_species: tail1",
           "Value: 115.39<br>polymer_species: PO<br>polymer_density: 0<br>orientation: 0<br>concentration: 10<br>size: 100<br>tail_species: tail2",
           "Value: 135.8<br>polymer_species: PO<br>polymer_density: 0<br>orientation: 0<br>concentration: 10<br>size: 100<br>tail_species: tail3",
           "Value: 115.55<br>polymer_species: PO<br>polymer_density: 0<br>orientation: 0<br>concentration: 10<br>size: 200<br>tail_species: tail1",
           "Value: 120.31<br>polymer_species: PO<br>polymer_density: 0<br>orientation: 0<br>concentration: 10<br>size: 200<br>tail_species: tail2",
           "Value: 132.53<br>polymer_species: PO<br>polymer_density: 0<br>orientation: 0<br>concentration: 10<br>size: 200<br>tail_species: tail3",
           "Value: 129.57<br>polymer_species: PO<br>polymer_density: 0<br>orientation: 0<br>concentration: 100<br>size: 100<br>tail_species: tail1",
           "Value: 146.19<br>polymer_species: PO<br>polymer_density: 0<br>orientation: 0<br>concentration: 100<br>size: 100<br>tail_species: tail2",
           "Value: 164.88<br>polymer_species: PO<br>polymer_density: 0<br>orientation: 0<br>concentration: 100<br>size: 100<br>tail_species: tail3",
           "Value: 141.61<br>polymer_species: PO<br>polymer_density: 0<br>orientation: 0<br>concentration: 100<br>size: 200<br>tail_species: tail1",
           "Value: 139.94<br>polymer_species: PO<br>polymer_density: 0<br>orientation: 0<br>concentration: 100<br>size: 200<br>tail_species: tail2",
           "Value: 150.79<br>polymer_species: PO<br>polymer_density: 0<br>orientation: 0<br>concentration: 100<br>size: 200<br>tail_species: tail3",
           "Value: 163.17<br>polymer_species: PO<br>polymer_density: 0<br>orientation: 0<br>concentration: 1000<br>size: 100<br>tail_species: tail1",
           "Value: 154.11<br>polymer_species: PO<br>polymer_density: 0<br>orientation: 0<br>concentration: 1000<br>size: 100<br>tail_species: tail2",
           "Value: 167.27<br>polymer_species: PO<br>polymer_density: 0<br>orientation: 0<br>concentration: 1000<br>size: 100<br>tail_species: tail3",
           "Value: 160.24<br>polymer_species: PO<br>polymer_density: 0<br>orientation: 0<br>concentration: 1000<br>size: 200<br>tail_species: tail1",
           "Value: 156.41<br>polymer_species: PO<br>polymer_density: 0<br>orientation: 0<br>concentration: 1000<br>size: 200<br>tail_species: tail2",
           "Value: 161.98<br>polymer_species: PO<br>polymer_density: 0<br>orientation: 0<br>concentration: 1000<br>size: 200<br>tail_species: tail3"
          ],
          [
           "Value: 100.83<br>polymer_species: PO<br>polymer_density: 0<br>orientation: 1<br>concentration: 1<br>size: 100<br>tail_species: tail1",
           "Value: 101.21<br>polymer_species: PO<br>polymer_density: 0<br>orientation: 1<br>concentration: 1<br>size: 100<br>tail_species: tail2",
           "Value: 105.56<br>polymer_species: PO<br>polymer_density: 0<br>orientation: 1<br>concentration: 1<br>size: 100<br>tail_species: tail3",
           "Value: 96.49<br>polymer_species: PO<br>polymer_density: 0<br>orientation: 1<br>concentration: 1<br>size: 200<br>tail_species: tail1",
           "Value: 99.77<br>polymer_species: PO<br>polymer_density: 0<br>orientation: 1<br>concentration: 1<br>size: 200<br>tail_species: tail2",
           "Value: 113.38<br>polymer_species: PO<br>polymer_density: 0<br>orientation: 1<br>concentration: 1<br>size: 200<br>tail_species: tail3",
           "Value: 120.64<br>polymer_species: PO<br>polymer_density: 0<br>orientation: 1<br>concentration: 10<br>size: 100<br>tail_species: tail1",
           "Value: 116.56<br>polymer_species: PO<br>polymer_density: 0<br>orientation: 1<br>concentration: 10<br>size: 100<br>tail_species: tail2",
           "Value: 134.73<br>polymer_species: PO<br>polymer_density: 0<br>orientation: 1<br>concentration: 10<br>size: 100<br>tail_species: tail3",
           "Value: 112.03<br>polymer_species: PO<br>polymer_density: 0<br>orientation: 1<br>concentration: 10<br>size: 200<br>tail_species: tail1",
           "Value: 116.23<br>polymer_species: PO<br>polymer_density: 0<br>orientation: 1<br>concentration: 10<br>size: 200<br>tail_species: tail2",
           "Value: 132.33<br>polymer_species: PO<br>polymer_density: 0<br>orientation: 1<br>concentration: 10<br>size: 200<br>tail_species: tail3",
           "Value: 135.95<br>polymer_species: PO<br>polymer_density: 0<br>orientation: 1<br>concentration: 100<br>size: 100<br>tail_species: tail1",
           "Value: 132.79<br>polymer_species: PO<br>polymer_density: 0<br>orientation: 1<br>concentration: 100<br>size: 100<br>tail_species: tail2",
           "Value: 148.47<br>polymer_species: PO<br>polymer_density: 0<br>orientation: 1<br>concentration: 100<br>size: 100<br>tail_species: tail3",
           "Value: 130.38<br>polymer_species: PO<br>polymer_density: 0<br>orientation: 1<br>concentration: 100<br>size: 200<br>tail_species: tail1",
           "Value: 136.21<br>polymer_species: PO<br>polymer_density: 0<br>orientation: 1<br>concentration: 100<br>size: 200<br>tail_species: tail2",
           "Value: 157.7<br>polymer_species: PO<br>polymer_density: 0<br>orientation: 1<br>concentration: 100<br>size: 200<br>tail_species: tail3",
           "Value: 162.9<br>polymer_species: PO<br>polymer_density: 0<br>orientation: 1<br>concentration: 1000<br>size: 100<br>tail_species: tail1",
           "Value: 166.6<br>polymer_species: PO<br>polymer_density: 0<br>orientation: 1<br>concentration: 1000<br>size: 100<br>tail_species: tail2",
           "Value: 163.0<br>polymer_species: PO<br>polymer_density: 0<br>orientation: 1<br>concentration: 1000<br>size: 100<br>tail_species: tail3",
           "Value: 160.37<br>polymer_species: PO<br>polymer_density: 0<br>orientation: 1<br>concentration: 1000<br>size: 200<br>tail_species: tail1",
           "Value: 154.53<br>polymer_species: PO<br>polymer_density: 0<br>orientation: 1<br>concentration: 1000<br>size: 200<br>tail_species: tail2",
           "Value: 172.6<br>polymer_species: PO<br>polymer_density: 0<br>orientation: 1<br>concentration: 1000<br>size: 200<br>tail_species: tail3"
          ],
          [
           "Value: 99.15<br>polymer_species: PO<br>polymer_density: 1<br>orientation: 0<br>concentration: 1<br>size: 100<br>tail_species: tail1",
           "Value: 96.87<br>polymer_species: PO<br>polymer_density: 1<br>orientation: 0<br>concentration: 1<br>size: 100<br>tail_species: tail2",
           "Value: 107.67<br>polymer_species: PO<br>polymer_density: 1<br>orientation: 0<br>concentration: 1<br>size: 100<br>tail_species: tail3",
           "Value: 97.98<br>polymer_species: PO<br>polymer_density: 1<br>orientation: 0<br>concentration: 1<br>size: 200<br>tail_species: tail1",
           "Value: 98.58<br>polymer_species: PO<br>polymer_density: 1<br>orientation: 0<br>concentration: 1<br>size: 200<br>tail_species: tail2",
           "Value: 112.66<br>polymer_species: PO<br>polymer_density: 1<br>orientation: 0<br>concentration: 1<br>size: 200<br>tail_species: tail3",
           "Value: 119.72<br>polymer_species: PO<br>polymer_density: 1<br>orientation: 0<br>concentration: 10<br>size: 100<br>tail_species: tail1",
           "Value: 117.38<br>polymer_species: PO<br>polymer_density: 1<br>orientation: 0<br>concentration: 10<br>size: 100<br>tail_species: tail2",
           "Value: 127.6<br>polymer_species: PO<br>polymer_density: 1<br>orientation: 0<br>concentration: 10<br>size: 100<br>tail_species: tail3",
           "Value: 123.23<br>polymer_species: PO<br>polymer_density: 1<br>orientation: 0<br>concentration: 10<br>size: 200<br>tail_species: tail1",
           "Value: 121.56<br>polymer_species: PO<br>polymer_density: 1<br>orientation: 0<br>concentration: 10<br>size: 200<br>tail_species: tail2",
           "Value: 131.91<br>polymer_species: PO<br>polymer_density: 1<br>orientation: 0<br>concentration: 10<br>size: 200<br>tail_species: tail3",
           "Value: 138.82<br>polymer_species: PO<br>polymer_density: 1<br>orientation: 0<br>concentration: 100<br>size: 100<br>tail_species: tail1",
           "Value: 139.73<br>polymer_species: PO<br>polymer_density: 1<br>orientation: 0<br>concentration: 100<br>size: 100<br>tail_species: tail2",
           "Value: 156.7<br>polymer_species: PO<br>polymer_density: 1<br>orientation: 0<br>concentration: 100<br>size: 100<br>tail_species: tail3",
           "Value: 146.61<br>polymer_species: PO<br>polymer_density: 1<br>orientation: 0<br>concentration: 100<br>size: 200<br>tail_species: tail1",
           "Value: 138.81<br>polymer_species: PO<br>polymer_density: 1<br>orientation: 0<br>concentration: 100<br>size: 200<br>tail_species: tail2",
           "Value: 161.45<br>polymer_species: PO<br>polymer_density: 1<br>orientation: 0<br>concentration: 100<br>size: 200<br>tail_species: tail3",
           "Value: 161.82<br>polymer_species: PO<br>polymer_density: 1<br>orientation: 0<br>concentration: 1000<br>size: 100<br>tail_species: tail1",
           "Value: 160.19<br>polymer_species: PO<br>polymer_density: 1<br>orientation: 0<br>concentration: 1000<br>size: 100<br>tail_species: tail2",
           "Value: 183.86<br>polymer_species: PO<br>polymer_density: 1<br>orientation: 0<br>concentration: 1000<br>size: 100<br>tail_species: tail3",
           "Value: 157.5<br>polymer_species: PO<br>polymer_density: 1<br>orientation: 0<br>concentration: 1000<br>size: 200<br>tail_species: tail1",
           "Value: 158.52<br>polymer_species: PO<br>polymer_density: 1<br>orientation: 0<br>concentration: 1000<br>size: 200<br>tail_species: tail2",
           "Value: 182.44<br>polymer_species: PO<br>polymer_density: 1<br>orientation: 0<br>concentration: 1000<br>size: 200<br>tail_species: tail3"
          ],
          [
           "Value: 96.74<br>polymer_species: PO<br>polymer_density: 1<br>orientation: 1<br>concentration: 1<br>size: 100<br>tail_species: tail1",
           "Value: 101.73<br>polymer_species: PO<br>polymer_density: 1<br>orientation: 1<br>concentration: 1<br>size: 100<br>tail_species: tail2",
           "Value: 112.79<br>polymer_species: PO<br>polymer_density: 1<br>orientation: 1<br>concentration: 1<br>size: 100<br>tail_species: tail3",
           "Value: 99.32<br>polymer_species: PO<br>polymer_density: 1<br>orientation: 1<br>concentration: 1<br>size: 200<br>tail_species: tail1",
           "Value: 96.44<br>polymer_species: PO<br>polymer_density: 1<br>orientation: 1<br>concentration: 1<br>size: 200<br>tail_species: tail2",
           "Value: 111.88<br>polymer_species: PO<br>polymer_density: 1<br>orientation: 1<br>concentration: 1<br>size: 200<br>tail_species: tail3",
           "Value: 121.45<br>polymer_species: PO<br>polymer_density: 1<br>orientation: 1<br>concentration: 10<br>size: 100<br>tail_species: tail1",
           "Value: 125.27<br>polymer_species: PO<br>polymer_density: 1<br>orientation: 1<br>concentration: 10<br>size: 100<br>tail_species: tail2",
           "Value: 135.94<br>polymer_species: PO<br>polymer_density: 1<br>orientation: 1<br>concentration: 10<br>size: 100<br>tail_species: tail3",
           "Value: 123.83<br>polymer_species: PO<br>polymer_density: 1<br>orientation: 1<br>concentration: 10<br>size: 200<br>tail_species: tail1",
           "Value: 119.91<br>polymer_species: PO<br>polymer_density: 1<br>orientation: 1<br>concentration: 10<br>size: 200<br>tail_species: tail2",
           "Value: 131.78<br>polymer_species: PO<br>polymer_density: 1<br>orientation: 1<br>concentration: 10<br>size: 200<br>tail_species: tail3",
           "Value: 136.45<br>polymer_species: PO<br>polymer_density: 1<br>orientation: 1<br>concentration: 100<br>size: 100<br>tail_species: tail1",
           "Value: 143.73<br>polymer_species: PO<br>polymer_density: 1<br>orientation: 1<br>concentration: 100<br>size: 100<br>tail_species: tail2",
           "Value: 149.07<br>polymer_species: PO<br>polymer_density: 1<br>orientation: 1<br>concentration: 100<br>size: 100<br>tail_species: tail3",
           "Value: 135.23<br>polymer_species: PO<br>polymer_density: 1<br>orientation: 1<br>concentration: 100<br>size: 200<br>tail_species: tail1",
           "Value: 140.29<br>polymer_species: PO<br>polymer_density: 1<br>orientation: 1<br>concentration: 100<br>size: 200<br>tail_species: tail2",
           "Value: 157.61<br>polymer_species: PO<br>polymer_density: 1<br>orientation: 1<br>concentration: 100<br>size: 200<br>tail_species: tail3",
           "Value: 170.18<br>polymer_species: PO<br>polymer_density: 1<br>orientation: 1<br>concentration: 1000<br>size: 100<br>tail_species: tail1",
           "Value: 155.54<br>polymer_species: PO<br>polymer_density: 1<br>orientation: 1<br>concentration: 1000<br>size: 100<br>tail_species: tail2",
           "Value: 167.8<br>polymer_species: PO<br>polymer_density: 1<br>orientation: 1<br>concentration: 1000<br>size: 100<br>tail_species: tail3",
           "Value: 163.02<br>polymer_species: PO<br>polymer_density: 1<br>orientation: 1<br>concentration: 1000<br>size: 200<br>tail_species: tail1",
           "Value: 163.17<br>polymer_species: PO<br>polymer_density: 1<br>orientation: 1<br>concentration: 1000<br>size: 200<br>tail_species: tail2",
           "Value: 178.22<br>polymer_species: PO<br>polymer_density: 1<br>orientation: 1<br>concentration: 1000<br>size: 200<br>tail_species: tail3"
          ],
          [
           "Value: 85.93<br>polymer_species: PO<br>polymer_density: 10<br>orientation: 0<br>concentration: 1<br>size: 100<br>tail_species: tail1",
           "Value: 87.67<br>polymer_species: PO<br>polymer_density: 10<br>orientation: 0<br>concentration: 1<br>size: 100<br>tail_species: tail2",
           "Value: 95.91<br>polymer_species: PO<br>polymer_density: 10<br>orientation: 0<br>concentration: 1<br>size: 100<br>tail_species: tail3",
           "Value: 85.2<br>polymer_species: PO<br>polymer_density: 10<br>orientation: 0<br>concentration: 1<br>size: 200<br>tail_species: tail1",
           "Value: 89.96<br>polymer_species: PO<br>polymer_density: 10<br>orientation: 0<br>concentration: 1<br>size: 200<br>tail_species: tail2",
           "Value: 95.42<br>polymer_species: PO<br>polymer_density: 10<br>orientation: 0<br>concentration: 1<br>size: 200<br>tail_species: tail3",
           "Value: 109.77<br>polymer_species: PO<br>polymer_density: 10<br>orientation: 0<br>concentration: 10<br>size: 100<br>tail_species: tail1",
           "Value: 107.61<br>polymer_species: PO<br>polymer_density: 10<br>orientation: 0<br>concentration: 10<br>size: 100<br>tail_species: tail2",
           "Value: 116.59<br>polymer_species: PO<br>polymer_density: 10<br>orientation: 0<br>concentration: 10<br>size: 100<br>tail_species: tail3",
           "Value: 106.42<br>polymer_species: PO<br>polymer_density: 10<br>orientation: 0<br>concentration: 10<br>size: 200<br>tail_species: tail1",
           "Value: 112.92<br>polymer_species: PO<br>polymer_density: 10<br>orientation: 0<br>concentration: 10<br>size: 200<br>tail_species: tail2",
           "Value: 127.39<br>polymer_species: PO<br>polymer_density: 10<br>orientation: 0<br>concentration: 10<br>size: 200<br>tail_species: tail3",
           "Value: 126.12<br>polymer_species: PO<br>polymer_density: 10<br>orientation: 0<br>concentration: 100<br>size: 100<br>tail_species: tail1",
           "Value: 121.15<br>polymer_species: PO<br>polymer_density: 10<br>orientation: 0<br>concentration: 100<br>size: 100<br>tail_species: tail2",
           "Value: 139.52<br>polymer_species: PO<br>polymer_density: 10<br>orientation: 0<br>concentration: 100<br>size: 100<br>tail_species: tail3",
           "Value: 132.01<br>polymer_species: PO<br>polymer_density: 10<br>orientation: 0<br>concentration: 100<br>size: 200<br>tail_species: tail1",
           "Value: 128.46<br>polymer_species: PO<br>polymer_density: 10<br>orientation: 0<br>concentration: 100<br>size: 200<br>tail_species: tail2",
           "Value: 140.53<br>polymer_species: PO<br>polymer_density: 10<br>orientation: 0<br>concentration: 100<br>size: 200<br>tail_species: tail3",
           "Value: 143.96<br>polymer_species: PO<br>polymer_density: 10<br>orientation: 0<br>concentration: 1000<br>size: 100<br>tail_species: tail1",
           "Value: 141.81<br>polymer_species: PO<br>polymer_density: 10<br>orientation: 0<br>concentration: 1000<br>size: 100<br>tail_species: tail2",
           "Value: 154.14<br>polymer_species: PO<br>polymer_density: 10<br>orientation: 0<br>concentration: 1000<br>size: 100<br>tail_species: tail3",
           "Value: 130.17<br>polymer_species: PO<br>polymer_density: 10<br>orientation: 0<br>concentration: 1000<br>size: 200<br>tail_species: tail1",
           "Value: 145.7<br>polymer_species: PO<br>polymer_density: 10<br>orientation: 0<br>concentration: 1000<br>size: 200<br>tail_species: tail2",
           "Value: 158.7<br>polymer_species: PO<br>polymer_density: 10<br>orientation: 0<br>concentration: 1000<br>size: 200<br>tail_species: tail3"
          ],
          [
           "Value: 88.18<br>polymer_species: PO<br>polymer_density: 10<br>orientation: 1<br>concentration: 1<br>size: 100<br>tail_species: tail1",
           "Value: 85.37<br>polymer_species: PO<br>polymer_density: 10<br>orientation: 1<br>concentration: 1<br>size: 100<br>tail_species: tail2",
           "Value: 102.2<br>polymer_species: PO<br>polymer_density: 10<br>orientation: 1<br>concentration: 1<br>size: 100<br>tail_species: tail3",
           "Value: 91.11<br>polymer_species: PO<br>polymer_density: 10<br>orientation: 1<br>concentration: 1<br>size: 200<br>tail_species: tail1",
           "Value: 93.05<br>polymer_species: PO<br>polymer_density: 10<br>orientation: 1<br>concentration: 1<br>size: 200<br>tail_species: tail2",
           "Value: 101.6<br>polymer_species: PO<br>polymer_density: 10<br>orientation: 1<br>concentration: 1<br>size: 200<br>tail_species: tail3",
           "Value: 107.5<br>polymer_species: PO<br>polymer_density: 10<br>orientation: 1<br>concentration: 10<br>size: 100<br>tail_species: tail1",
           "Value: 102.35<br>polymer_species: PO<br>polymer_density: 10<br>orientation: 1<br>concentration: 10<br>size: 100<br>tail_species: tail2",
           "Value: 127.34<br>polymer_species: PO<br>polymer_density: 10<br>orientation: 1<br>concentration: 10<br>size: 100<br>tail_species: tail3",
           "Value: 112.1<br>polymer_species: PO<br>polymer_density: 10<br>orientation: 1<br>concentration: 10<br>size: 200<br>tail_species: tail1",
           "Value: 104.8<br>polymer_species: PO<br>polymer_density: 10<br>orientation: 1<br>concentration: 10<br>size: 200<br>tail_species: tail2",
           "Value: 120.71<br>polymer_species: PO<br>polymer_density: 10<br>orientation: 1<br>concentration: 10<br>size: 200<br>tail_species: tail3",
           "Value: 120.93<br>polymer_species: PO<br>polymer_density: 10<br>orientation: 1<br>concentration: 100<br>size: 100<br>tail_species: tail1",
           "Value: 126.86<br>polymer_species: PO<br>polymer_density: 10<br>orientation: 1<br>concentration: 100<br>size: 100<br>tail_species: tail2",
           "Value: 137.34<br>polymer_species: PO<br>polymer_density: 10<br>orientation: 1<br>concentration: 100<br>size: 100<br>tail_species: tail3",
           "Value: 120.1<br>polymer_species: PO<br>polymer_density: 10<br>orientation: 1<br>concentration: 100<br>size: 200<br>tail_species: tail1",
           "Value: 125.78<br>polymer_species: PO<br>polymer_density: 10<br>orientation: 1<br>concentration: 100<br>size: 200<br>tail_species: tail2",
           "Value: 134.15<br>polymer_species: PO<br>polymer_density: 10<br>orientation: 1<br>concentration: 100<br>size: 200<br>tail_species: tail3",
           "Value: 146.58<br>polymer_species: PO<br>polymer_density: 10<br>orientation: 1<br>concentration: 1000<br>size: 100<br>tail_species: tail1",
           "Value: 142.67<br>polymer_species: PO<br>polymer_density: 10<br>orientation: 1<br>concentration: 1000<br>size: 100<br>tail_species: tail2",
           "Value: 167.98<br>polymer_species: PO<br>polymer_density: 10<br>orientation: 1<br>concentration: 1000<br>size: 100<br>tail_species: tail3",
           "Value: 139.53<br>polymer_species: PO<br>polymer_density: 10<br>orientation: 1<br>concentration: 1000<br>size: 200<br>tail_species: tail1",
           "Value: 146.01<br>polymer_species: PO<br>polymer_density: 10<br>orientation: 1<br>concentration: 1000<br>size: 200<br>tail_species: tail2",
           "Value: 163.31<br>polymer_species: PO<br>polymer_density: 10<br>orientation: 1<br>concentration: 1000<br>size: 200<br>tail_species: tail3"
          ],
          [
           "Value: 135.23<br>polymer_species: PS<br>polymer_density: 0<br>orientation: 0<br>concentration: 1<br>size: 100<br>tail_species: tail1",
           "Value: 131.16<br>polymer_species: PS<br>polymer_density: 0<br>orientation: 0<br>concentration: 1<br>size: 100<br>tail_species: tail2",
           "Value: 155.26<br>polymer_species: PS<br>polymer_density: 0<br>orientation: 0<br>concentration: 1<br>size: 100<br>tail_species: tail3",
           "Value: 108.74<br>polymer_species: PS<br>polymer_density: 0<br>orientation: 0<br>concentration: 1<br>size: 200<br>tail_species: tail1",
           "Value: 110.78<br>polymer_species: PS<br>polymer_density: 0<br>orientation: 0<br>concentration: 1<br>size: 200<br>tail_species: tail2",
           "Value: 132.68<br>polymer_species: PS<br>polymer_density: 0<br>orientation: 0<br>concentration: 1<br>size: 200<br>tail_species: tail3",
           "Value: 161.86<br>polymer_species: PS<br>polymer_density: 0<br>orientation: 0<br>concentration: 10<br>size: 100<br>tail_species: tail1",
           "Value: 167.51<br>polymer_species: PS<br>polymer_density: 0<br>orientation: 0<br>concentration: 10<br>size: 100<br>tail_species: tail2",
           "Value: 185.63<br>polymer_species: PS<br>polymer_density: 0<br>orientation: 0<br>concentration: 10<br>size: 100<br>tail_species: tail3",
           "Value: 134.07<br>polymer_species: PS<br>polymer_density: 0<br>orientation: 0<br>concentration: 10<br>size: 200<br>tail_species: tail1",
           "Value: 132.41<br>polymer_species: PS<br>polymer_density: 0<br>orientation: 0<br>concentration: 10<br>size: 200<br>tail_species: tail2",
           "Value: 154.27<br>polymer_species: PS<br>polymer_density: 0<br>orientation: 0<br>concentration: 10<br>size: 200<br>tail_species: tail3",
           "Value: 196.64<br>polymer_species: PS<br>polymer_density: 0<br>orientation: 0<br>concentration: 100<br>size: 100<br>tail_species: tail1",
           "Value: 200.6<br>polymer_species: PS<br>polymer_density: 0<br>orientation: 0<br>concentration: 100<br>size: 100<br>tail_species: tail2",
           "Value: 210.78<br>polymer_species: PS<br>polymer_density: 0<br>orientation: 0<br>concentration: 100<br>size: 100<br>tail_species: tail3",
           "Value: 159.04<br>polymer_species: PS<br>polymer_density: 0<br>orientation: 0<br>concentration: 100<br>size: 200<br>tail_species: tail1",
           "Value: 149.92<br>polymer_species: PS<br>polymer_density: 0<br>orientation: 0<br>concentration: 100<br>size: 200<br>tail_species: tail2",
           "Value: 173.66<br>polymer_species: PS<br>polymer_density: 0<br>orientation: 0<br>concentration: 100<br>size: 200<br>tail_species: tail3",
           "Value: 237.12<br>polymer_species: PS<br>polymer_density: 0<br>orientation: 0<br>concentration: 1000<br>size: 100<br>tail_species: tail1",
           "Value: 222.45<br>polymer_species: PS<br>polymer_density: 0<br>orientation: 0<br>concentration: 1000<br>size: 100<br>tail_species: tail2",
           "Value: 250.66<br>polymer_species: PS<br>polymer_density: 0<br>orientation: 0<br>concentration: 1000<br>size: 100<br>tail_species: tail3",
           "Value: 183.46<br>polymer_species: PS<br>polymer_density: 0<br>orientation: 0<br>concentration: 1000<br>size: 200<br>tail_species: tail1",
           "Value: 189.21<br>polymer_species: PS<br>polymer_density: 0<br>orientation: 0<br>concentration: 1000<br>size: 200<br>tail_species: tail2",
           "Value: 196.47<br>polymer_species: PS<br>polymer_density: 0<br>orientation: 0<br>concentration: 1000<br>size: 200<br>tail_species: tail3"
          ],
          [
           "Value: 140.48<br>polymer_species: PS<br>polymer_density: 0<br>orientation: 1<br>concentration: 1<br>size: 100<br>tail_species: tail1",
           "Value: 135.64<br>polymer_species: PS<br>polymer_density: 0<br>orientation: 1<br>concentration: 1<br>size: 100<br>tail_species: tail2",
           "Value: 153.5<br>polymer_species: PS<br>polymer_density: 0<br>orientation: 1<br>concentration: 1<br>size: 100<br>tail_species: tail3",
           "Value: 114.73<br>polymer_species: PS<br>polymer_density: 0<br>orientation: 1<br>concentration: 1<br>size: 200<br>tail_species: tail1",
           "Value: 107.17<br>polymer_species: PS<br>polymer_density: 0<br>orientation: 1<br>concentration: 1<br>size: 200<br>tail_species: tail2",
           "Value: 115.03<br>polymer_species: PS<br>polymer_density: 0<br>orientation: 1<br>concentration: 1<br>size: 200<br>tail_species: tail3",
           "Value: 169.52<br>polymer_species: PS<br>polymer_density: 0<br>orientation: 1<br>concentration: 10<br>size: 100<br>tail_species: tail1",
           "Value: 163.83<br>polymer_species: PS<br>polymer_density: 0<br>orientation: 1<br>concentration: 10<br>size: 100<br>tail_species: tail2",
           "Value: 184.88<br>polymer_species: PS<br>polymer_density: 0<br>orientation: 1<br>concentration: 10<br>size: 100<br>tail_species: tail3",
           "Value: 135.61<br>polymer_species: PS<br>polymer_density: 0<br>orientation: 1<br>concentration: 10<br>size: 200<br>tail_species: tail1",
           "Value: 134.78<br>polymer_species: PS<br>polymer_density: 0<br>orientation: 1<br>concentration: 10<br>size: 200<br>tail_species: tail2",
           "Value: 145.67<br>polymer_species: PS<br>polymer_density: 0<br>orientation: 1<br>concentration: 10<br>size: 200<br>tail_species: tail3",
           "Value: 206.86<br>polymer_species: PS<br>polymer_density: 0<br>orientation: 1<br>concentration: 100<br>size: 100<br>tail_species: tail1",
           "Value: 201.3<br>polymer_species: PS<br>polymer_density: 0<br>orientation: 1<br>concentration: 100<br>size: 100<br>tail_species: tail2",
           "Value: 210.05<br>polymer_species: PS<br>polymer_density: 0<br>orientation: 1<br>concentration: 100<br>size: 100<br>tail_species: tail3",
           "Value: 155.57<br>polymer_species: PS<br>polymer_density: 0<br>orientation: 1<br>concentration: 100<br>size: 200<br>tail_species: tail1",
           "Value: 155.07<br>polymer_species: PS<br>polymer_density: 0<br>orientation: 1<br>concentration: 100<br>size: 200<br>tail_species: tail2",
           "Value: 166.79<br>polymer_species: PS<br>polymer_density: 0<br>orientation: 1<br>concentration: 100<br>size: 200<br>tail_species: tail3",
           "Value: 227.79<br>polymer_species: PS<br>polymer_density: 0<br>orientation: 1<br>concentration: 1000<br>size: 100<br>tail_species: tail1",
           "Value: 219.42<br>polymer_species: PS<br>polymer_density: 0<br>orientation: 1<br>concentration: 1000<br>size: 100<br>tail_species: tail2",
           "Value: 232.85<br>polymer_species: PS<br>polymer_density: 0<br>orientation: 1<br>concentration: 1000<br>size: 100<br>tail_species: tail3",
           "Value: 176.84<br>polymer_species: PS<br>polymer_density: 0<br>orientation: 1<br>concentration: 1000<br>size: 200<br>tail_species: tail1",
           "Value: 177.54<br>polymer_species: PS<br>polymer_density: 0<br>orientation: 1<br>concentration: 1000<br>size: 200<br>tail_species: tail2",
           "Value: 189.49<br>polymer_species: PS<br>polymer_density: 0<br>orientation: 1<br>concentration: 1000<br>size: 200<br>tail_species: tail3"
          ],
          [
           "Value: 174.11<br>polymer_species: PS<br>polymer_density: 1<br>orientation: 0<br>concentration: 1<br>size: 100<br>tail_species: tail1",
           "Value: 165.51<br>polymer_species: PS<br>polymer_density: 1<br>orientation: 0<br>concentration: 1<br>size: 100<br>tail_species: tail2",
           "Value: 182.44<br>polymer_species: PS<br>polymer_density: 1<br>orientation: 0<br>concentration: 1<br>size: 100<br>tail_species: tail3",
           "Value: 129.18<br>polymer_species: PS<br>polymer_density: 1<br>orientation: 0<br>concentration: 1<br>size: 200<br>tail_species: tail1",
           "Value: 134.38<br>polymer_species: PS<br>polymer_density: 1<br>orientation: 0<br>concentration: 1<br>size: 200<br>tail_species: tail2",
           "Value: 154.19<br>polymer_species: PS<br>polymer_density: 1<br>orientation: 0<br>concentration: 1<br>size: 200<br>tail_species: tail3",
           "Value: 194.18<br>polymer_species: PS<br>polymer_density: 1<br>orientation: 0<br>concentration: 10<br>size: 100<br>tail_species: tail1",
           "Value: 205.81<br>polymer_species: PS<br>polymer_density: 1<br>orientation: 0<br>concentration: 10<br>size: 100<br>tail_species: tail2",
           "Value: 216.89<br>polymer_species: PS<br>polymer_density: 1<br>orientation: 0<br>concentration: 10<br>size: 100<br>tail_species: tail3",
           "Value: 150.72<br>polymer_species: PS<br>polymer_density: 1<br>orientation: 0<br>concentration: 10<br>size: 200<br>tail_species: tail1",
           "Value: 164.18<br>polymer_species: PS<br>polymer_density: 1<br>orientation: 0<br>concentration: 10<br>size: 200<br>tail_species: tail2",
           "Value: 178.5<br>polymer_species: PS<br>polymer_density: 1<br>orientation: 0<br>concentration: 10<br>size: 200<br>tail_species: tail3",
           "Value: 243.15<br>polymer_species: PS<br>polymer_density: 1<br>orientation: 0<br>concentration: 100<br>size: 100<br>tail_species: tail1",
           "Value: 227.64<br>polymer_species: PS<br>polymer_density: 1<br>orientation: 0<br>concentration: 100<br>size: 100<br>tail_species: tail2",
           "Value: 264.61<br>polymer_species: PS<br>polymer_density: 1<br>orientation: 0<br>concentration: 100<br>size: 100<br>tail_species: tail3",
           "Value: 190.83<br>polymer_species: PS<br>polymer_density: 1<br>orientation: 0<br>concentration: 100<br>size: 200<br>tail_species: tail1",
           "Value: 181.74<br>polymer_species: PS<br>polymer_density: 1<br>orientation: 0<br>concentration: 100<br>size: 200<br>tail_species: tail2",
           "Value: 203.89<br>polymer_species: PS<br>polymer_density: 1<br>orientation: 0<br>concentration: 100<br>size: 200<br>tail_species: tail3",
           "Value: 260.28<br>polymer_species: PS<br>polymer_density: 1<br>orientation: 0<br>concentration: 1000<br>size: 100<br>tail_species: tail1",
           "Value: 271.98<br>polymer_species: PS<br>polymer_density: 1<br>orientation: 0<br>concentration: 1000<br>size: 100<br>tail_species: tail2",
           "Value: 305.85<br>polymer_species: PS<br>polymer_density: 1<br>orientation: 0<br>concentration: 1000<br>size: 100<br>tail_species: tail3",
           "Value: 215.98<br>polymer_species: PS<br>polymer_density: 1<br>orientation: 0<br>concentration: 1000<br>size: 200<br>tail_species: tail1",
           "Value: 221.08<br>polymer_species: PS<br>polymer_density: 1<br>orientation: 0<br>concentration: 1000<br>size: 200<br>tail_species: tail2",
           "Value: 228.14<br>polymer_species: PS<br>polymer_density: 1<br>orientation: 0<br>concentration: 1000<br>size: 200<br>tail_species: tail3"
          ],
          [
           "Value: 160.55<br>polymer_species: PS<br>polymer_density: 1<br>orientation: 1<br>concentration: 1<br>size: 100<br>tail_species: tail1",
           "Value: 166.13<br>polymer_species: PS<br>polymer_density: 1<br>orientation: 1<br>concentration: 1<br>size: 100<br>tail_species: tail2",
           "Value: 193.91<br>polymer_species: PS<br>polymer_density: 1<br>orientation: 1<br>concentration: 1<br>size: 100<br>tail_species: tail3",
           "Value: 134.93<br>polymer_species: PS<br>polymer_density: 1<br>orientation: 1<br>concentration: 1<br>size: 200<br>tail_species: tail1",
           "Value: 128.7<br>polymer_species: PS<br>polymer_density: 1<br>orientation: 1<br>concentration: 1<br>size: 200<br>tail_species: tail2",
           "Value: 152.16<br>polymer_species: PS<br>polymer_density: 1<br>orientation: 1<br>concentration: 1<br>size: 200<br>tail_species: tail3",
           "Value: 188.42<br>polymer_species: PS<br>polymer_density: 1<br>orientation: 1<br>concentration: 10<br>size: 100<br>tail_species: tail1",
           "Value: 199.51<br>polymer_species: PS<br>polymer_density: 1<br>orientation: 1<br>concentration: 10<br>size: 100<br>tail_species: tail2",
           "Value: 244.1<br>polymer_species: PS<br>polymer_density: 1<br>orientation: 1<br>concentration: 10<br>size: 100<br>tail_species: tail3",
           "Value: 157.1<br>polymer_species: PS<br>polymer_density: 1<br>orientation: 1<br>concentration: 10<br>size: 200<br>tail_species: tail1",
           "Value: 167.39<br>polymer_species: PS<br>polymer_density: 1<br>orientation: 1<br>concentration: 10<br>size: 200<br>tail_species: tail2",
           "Value: 179.37<br>polymer_species: PS<br>polymer_density: 1<br>orientation: 1<br>concentration: 10<br>size: 200<br>tail_species: tail3",
           "Value: 225.82<br>polymer_species: PS<br>polymer_density: 1<br>orientation: 1<br>concentration: 100<br>size: 100<br>tail_species: tail1",
           "Value: 243.46<br>polymer_species: PS<br>polymer_density: 1<br>orientation: 1<br>concentration: 100<br>size: 100<br>tail_species: tail2",
           "Value: 261.1<br>polymer_species: PS<br>polymer_density: 1<br>orientation: 1<br>concentration: 100<br>size: 100<br>tail_species: tail3",
           "Value: 189.75<br>polymer_species: PS<br>polymer_density: 1<br>orientation: 1<br>concentration: 100<br>size: 200<br>tail_species: tail1",
           "Value: 181.7<br>polymer_species: PS<br>polymer_density: 1<br>orientation: 1<br>concentration: 100<br>size: 200<br>tail_species: tail2",
           "Value: 208.56<br>polymer_species: PS<br>polymer_density: 1<br>orientation: 1<br>concentration: 100<br>size: 200<br>tail_species: tail3",
           "Value: 276.6<br>polymer_species: PS<br>polymer_density: 1<br>orientation: 1<br>concentration: 1000<br>size: 100<br>tail_species: tail1",
           "Value: 271.85<br>polymer_species: PS<br>polymer_density: 1<br>orientation: 1<br>concentration: 1000<br>size: 100<br>tail_species: tail2",
           "Value: 311.4<br>polymer_species: PS<br>polymer_density: 1<br>orientation: 1<br>concentration: 1000<br>size: 100<br>tail_species: tail3",
           "Value: 218.29<br>polymer_species: PS<br>polymer_density: 1<br>orientation: 1<br>concentration: 1000<br>size: 200<br>tail_species: tail1",
           "Value: 210.85<br>polymer_species: PS<br>polymer_density: 1<br>orientation: 1<br>concentration: 1000<br>size: 200<br>tail_species: tail2",
           "Value: 242.13<br>polymer_species: PS<br>polymer_density: 1<br>orientation: 1<br>concentration: 1000<br>size: 200<br>tail_species: tail3"
          ],
          [
           "Value: 125.35<br>polymer_species: PS<br>polymer_density: 10<br>orientation: 0<br>concentration: 1<br>size: 100<br>tail_species: tail1",
           "Value: 130.05<br>polymer_species: PS<br>polymer_density: 10<br>orientation: 0<br>concentration: 1<br>size: 100<br>tail_species: tail2",
           "Value: 140.96<br>polymer_species: PS<br>polymer_density: 10<br>orientation: 0<br>concentration: 1<br>size: 100<br>tail_species: tail3",
           "Value: 102.05<br>polymer_species: PS<br>polymer_density: 10<br>orientation: 0<br>concentration: 1<br>size: 200<br>tail_species: tail1",
           "Value: 98.01<br>polymer_species: PS<br>polymer_density: 10<br>orientation: 0<br>concentration: 1<br>size: 200<br>tail_species: tail2",
           "Value: 115.34<br>polymer_species: PS<br>polymer_density: 10<br>orientation: 0<br>concentration: 1<br>size: 200<br>tail_species: tail3",
           "Value: 154.69<br>polymer_species: PS<br>polymer_density: 10<br>orientation: 0<br>concentration: 10<br>size: 100<br>tail_species: tail1",
           "Value: 152.75<br>polymer_species: PS<br>polymer_density: 10<br>orientation: 0<br>concentration: 10<br>size: 100<br>tail_species: tail2",
           "Value: 169.75<br>polymer_species: PS<br>polymer_density: 10<br>orientation: 0<br>concentration: 10<br>size: 100<br>tail_species: tail3",
           "Value: 122.34<br>polymer_species: PS<br>polymer_density: 10<br>orientation: 0<br>concentration: 10<br>size: 200<br>tail_species: tail1",
           "Value: 121.96<br>polymer_species: PS<br>polymer_density: 10<br>orientation: 0<br>concentration: 10<br>size: 200<br>tail_species: tail2",
           "Value: 132.05<br>polymer_species: PS<br>polymer_density: 10<br>orientation: 0<br>concentration: 10<br>size: 200<br>tail_species: tail3",
           "Value: 171.23<br>polymer_species: PS<br>polymer_density: 10<br>orientation: 0<br>concentration: 100<br>size: 100<br>tail_species: tail1",
           "Value: 178.73<br>polymer_species: PS<br>polymer_density: 10<br>orientation: 0<br>concentration: 100<br>size: 100<br>tail_species: tail2",
           "Value: 204.11<br>polymer_species: PS<br>polymer_density: 10<br>orientation: 0<br>concentration: 100<br>size: 100<br>tail_species: tail3",
           "Value: 140.09<br>polymer_species: PS<br>polymer_density: 10<br>orientation: 0<br>concentration: 100<br>size: 200<br>tail_species: tail1",
           "Value: 137.35<br>polymer_species: PS<br>polymer_density: 10<br>orientation: 0<br>concentration: 100<br>size: 200<br>tail_species: tail2",
           "Value: 156.66<br>polymer_species: PS<br>polymer_density: 10<br>orientation: 0<br>concentration: 100<br>size: 200<br>tail_species: tail3",
           "Value: 204.83<br>polymer_species: PS<br>polymer_density: 10<br>orientation: 0<br>concentration: 1000<br>size: 100<br>tail_species: tail1",
           "Value: 189.9<br>polymer_species: PS<br>polymer_density: 10<br>orientation: 0<br>concentration: 1000<br>size: 100<br>tail_species: tail2",
           "Value: 231.66<br>polymer_species: PS<br>polymer_density: 10<br>orientation: 0<br>concentration: 1000<br>size: 100<br>tail_species: tail3",
           "Value: 170.49<br>polymer_species: PS<br>polymer_density: 10<br>orientation: 0<br>concentration: 1000<br>size: 200<br>tail_species: tail1",
           "Value: 167.36<br>polymer_species: PS<br>polymer_density: 10<br>orientation: 0<br>concentration: 1000<br>size: 200<br>tail_species: tail2",
           "Value: 174.44<br>polymer_species: PS<br>polymer_density: 10<br>orientation: 0<br>concentration: 1000<br>size: 200<br>tail_species: tail3"
          ],
          [
           "Value: 127.98<br>polymer_species: PS<br>polymer_density: 10<br>orientation: 1<br>concentration: 1<br>size: 100<br>tail_species: tail1",
           "Value: 121.62<br>polymer_species: PS<br>polymer_density: 10<br>orientation: 1<br>concentration: 1<br>size: 100<br>tail_species: tail2",
           "Value: 132.49<br>polymer_species: PS<br>polymer_density: 10<br>orientation: 1<br>concentration: 1<br>size: 100<br>tail_species: tail3",
           "Value: 98.3<br>polymer_species: PS<br>polymer_density: 10<br>orientation: 1<br>concentration: 1<br>size: 200<br>tail_species: tail1",
           "Value: 105.66<br>polymer_species: PS<br>polymer_density: 10<br>orientation: 1<br>concentration: 1<br>size: 200<br>tail_species: tail2",
           "Value: 104.2<br>polymer_species: PS<br>polymer_density: 10<br>orientation: 1<br>concentration: 1<br>size: 200<br>tail_species: tail3",
           "Value: 144.99<br>polymer_species: PS<br>polymer_density: 10<br>orientation: 1<br>concentration: 10<br>size: 100<br>tail_species: tail1",
           "Value: 157.16<br>polymer_species: PS<br>polymer_density: 10<br>orientation: 1<br>concentration: 10<br>size: 100<br>tail_species: tail2",
           "Value: 164.74<br>polymer_species: PS<br>polymer_density: 10<br>orientation: 1<br>concentration: 10<br>size: 100<br>tail_species: tail3",
           "Value: 122.44<br>polymer_species: PS<br>polymer_density: 10<br>orientation: 1<br>concentration: 10<br>size: 200<br>tail_species: tail1",
           "Value: 125.64<br>polymer_species: PS<br>polymer_density: 10<br>orientation: 1<br>concentration: 10<br>size: 200<br>tail_species: tail2",
           "Value: 132.92<br>polymer_species: PS<br>polymer_density: 10<br>orientation: 1<br>concentration: 10<br>size: 200<br>tail_species: tail3",
           "Value: 185.3<br>polymer_species: PS<br>polymer_density: 10<br>orientation: 1<br>concentration: 100<br>size: 100<br>tail_species: tail1",
           "Value: 179.15<br>polymer_species: PS<br>polymer_density: 10<br>orientation: 1<br>concentration: 100<br>size: 100<br>tail_species: tail2",
           "Value: 193.87<br>polymer_species: PS<br>polymer_density: 10<br>orientation: 1<br>concentration: 100<br>size: 100<br>tail_species: tail3",
           "Value: 147.57<br>polymer_species: PS<br>polymer_density: 10<br>orientation: 1<br>concentration: 100<br>size: 200<br>tail_species: tail1",
           "Value: 144.77<br>polymer_species: PS<br>polymer_density: 10<br>orientation: 1<br>concentration: 100<br>size: 200<br>tail_species: tail2",
           "Value: 155.28<br>polymer_species: PS<br>polymer_density: 10<br>orientation: 1<br>concentration: 100<br>size: 200<br>tail_species: tail3",
           "Value: 195.2<br>polymer_species: PS<br>polymer_density: 10<br>orientation: 1<br>concentration: 1000<br>size: 100<br>tail_species: tail1",
           "Value: 204.59<br>polymer_species: PS<br>polymer_density: 10<br>orientation: 1<br>concentration: 1000<br>size: 100<br>tail_species: tail2",
           "Value: 217.3<br>polymer_species: PS<br>polymer_density: 10<br>orientation: 1<br>concentration: 1000<br>size: 100<br>tail_species: tail3",
           "Value: 163.28<br>polymer_species: PS<br>polymer_density: 10<br>orientation: 1<br>concentration: 1000<br>size: 200<br>tail_species: tail1",
           "Value: 164.59<br>polymer_species: PS<br>polymer_density: 10<br>orientation: 1<br>concentration: 1000<br>size: 200<br>tail_species: tail2",
           "Value: 185.47<br>polymer_species: PS<br>polymer_density: 10<br>orientation: 1<br>concentration: 1000<br>size: 200<br>tail_species: tail3"
          ]
         ],
         "name": "",
         "type": "heatmap",
         "z": [
          [
           101.41,
           100.36,
           112.38,
           101.07,
           100.83,
           112.96,
           118.52,
           115.39,
           135.8,
           115.55,
           120.31,
           132.53,
           129.57,
           146.19,
           164.88,
           141.61,
           139.94,
           150.79,
           163.17,
           154.11,
           167.27,
           160.24,
           156.41,
           161.98
          ],
          [
           100.83,
           101.21,
           105.56,
           96.49,
           99.77,
           113.38,
           120.64,
           116.56,
           134.73,
           112.03,
           116.23,
           132.33,
           135.95,
           132.79,
           148.47,
           130.38,
           136.21,
           157.7,
           162.9,
           166.6,
           163,
           160.37,
           154.53,
           172.6
          ],
          [
           99.15,
           96.87,
           107.67,
           97.98,
           98.58,
           112.66,
           119.72,
           117.38,
           127.6,
           123.23,
           121.56,
           131.91,
           138.82,
           139.73,
           156.7,
           146.61,
           138.81,
           161.45,
           161.82,
           160.19,
           183.86,
           157.5,
           158.52,
           182.44
          ],
          [
           96.74,
           101.73,
           112.79,
           99.32,
           96.44,
           111.88,
           121.45,
           125.27,
           135.94,
           123.83,
           119.91,
           131.78,
           136.45,
           143.73,
           149.07,
           135.23,
           140.29,
           157.61,
           170.18,
           155.54,
           167.8,
           163.02,
           163.17,
           178.22
          ],
          [
           85.93,
           87.67,
           95.91,
           85.2,
           89.96,
           95.42,
           109.77,
           107.61,
           116.59,
           106.42,
           112.92,
           127.39,
           126.12,
           121.15,
           139.52,
           132.01,
           128.46,
           140.53,
           143.96,
           141.81,
           154.14,
           130.17,
           145.7,
           158.7
          ],
          [
           88.18,
           85.37,
           102.2,
           91.11,
           93.05,
           101.6,
           107.5,
           102.35,
           127.34,
           112.1,
           104.8,
           120.71,
           120.93,
           126.86,
           137.34,
           120.1,
           125.78,
           134.15,
           146.58,
           142.67,
           167.98,
           139.53,
           146.01,
           163.31
          ],
          [
           135.23,
           131.16,
           155.26,
           108.74,
           110.78,
           132.68,
           161.86,
           167.51,
           185.63,
           134.07,
           132.41,
           154.27,
           196.64,
           200.6,
           210.78,
           159.04,
           149.92,
           173.66,
           237.12,
           222.45,
           250.66,
           183.46,
           189.21,
           196.47
          ],
          [
           140.48,
           135.64,
           153.5,
           114.73,
           107.17,
           115.03,
           169.52,
           163.83,
           184.88,
           135.61,
           134.78,
           145.67,
           206.86,
           201.3,
           210.05,
           155.57,
           155.07,
           166.79,
           227.79,
           219.42,
           232.85,
           176.84,
           177.54,
           189.49
          ],
          [
           174.11,
           165.51,
           182.44,
           129.18,
           134.38,
           154.19,
           194.18,
           205.81,
           216.89,
           150.72,
           164.18,
           178.5,
           243.15,
           227.64,
           264.61,
           190.83,
           181.74,
           203.89,
           260.28,
           271.98,
           305.85,
           215.98,
           221.08,
           228.14
          ],
          [
           160.55,
           166.13,
           193.91,
           134.93,
           128.7,
           152.16,
           188.42,
           199.51,
           244.1,
           157.1,
           167.39,
           179.37,
           225.82,
           243.46,
           261.1,
           189.75,
           181.7,
           208.56,
           276.6,
           271.85,
           311.4,
           218.29,
           210.85,
           242.13
          ],
          [
           125.35,
           130.05,
           140.96,
           102.05,
           98.01,
           115.34,
           154.69,
           152.75,
           169.75,
           122.34,
           121.96,
           132.05,
           171.23,
           178.73,
           204.11,
           140.09,
           137.35,
           156.66,
           204.83,
           189.9,
           231.66,
           170.49,
           167.36,
           174.44
          ],
          [
           127.98,
           121.62,
           132.49,
           98.3,
           105.66,
           104.2,
           144.99,
           157.16,
           164.74,
           122.44,
           125.64,
           132.92,
           185.3,
           179.15,
           193.87,
           147.57,
           144.77,
           155.28,
           195.2,
           204.59,
           217.3,
           163.28,
           164.59,
           185.47
          ]
         ]
        }
       ],
       "layout": {
        "annotations": [
         {
          "align": "right",
          "font": {
           "size": 14
          },
          "showarrow": false,
          "text": "orientation",
          "textangle": -90,
          "valign": "bottom",
          "x": 0,
          "xanchor": "right",
          "xref": "paper",
          "y": 0,
          "yanchor": "top",
          "yref": "paper"
         },
         {
          "align": "right",
          "font": {
           "size": 14
          },
          "showarrow": false,
          "text": "polymer_density",
          "textangle": -90,
          "valign": "bottom",
          "x": -0.05,
          "xanchor": "right",
          "xref": "paper",
          "y": 0,
          "yanchor": "top",
          "yref": "paper"
         },
         {
          "align": "right",
          "font": {
           "size": 14
          },
          "showarrow": false,
          "text": "polymer_species",
          "textangle": -90,
          "valign": "bottom",
          "x": -0.1,
          "xanchor": "right",
          "xref": "paper",
          "y": 0,
          "yanchor": "top",
          "yref": "paper"
         },
         {
          "align": "center",
          "font": {
           "size": 10
          },
          "showarrow": false,
          "text": "0",
          "textangle": -90,
          "valign": "bottom",
          "x": 0,
          "xanchor": "right",
          "xref": "paper",
          "y": 0,
          "yanchor": "bottom"
         },
         {
          "align": "center",
          "font": {
           "size": 10
          },
          "showarrow": false,
          "text": "0",
          "textangle": -90,
          "valign": "bottom",
          "x": 0,
          "xanchor": "right",
          "xref": "paper",
          "y": 6,
          "yanchor": "bottom"
         },
         {
          "align": "center",
          "font": {
           "size": 10
          },
          "showarrow": false,
          "text": "0",
          "textangle": -90,
          "valign": "bottom",
          "x": 0,
          "xanchor": "right",
          "xref": "paper",
          "y": 2,
          "yanchor": "bottom"
         },
         {
          "align": "center",
          "font": {
           "size": 10
          },
          "showarrow": false,
          "text": "0",
          "textangle": -90,
          "valign": "bottom",
          "x": 0,
          "xanchor": "right",
          "xref": "paper",
          "y": 8,
          "yanchor": "bottom"
         },
         {
          "align": "center",
          "font": {
           "size": 10
          },
          "showarrow": false,
          "text": "0",
          "textangle": -90,
          "valign": "bottom",
          "x": 0,
          "xanchor": "right",
          "xref": "paper",
          "y": 4,
          "yanchor": "bottom"
         },
         {
          "align": "center",
          "font": {
           "size": 10
          },
          "showarrow": false,
          "text": "0",
          "textangle": -90,
          "valign": "bottom",
          "x": 0,
          "xanchor": "right",
          "xref": "paper",
          "y": 10,
          "yanchor": "bottom"
         },
         {
          "align": "center",
          "font": {
           "size": 10
          },
          "showarrow": false,
          "text": "1",
          "textangle": -90,
          "valign": "bottom",
          "x": 0,
          "xanchor": "right",
          "xref": "paper",
          "y": 1,
          "yanchor": "bottom"
         },
         {
          "align": "center",
          "font": {
           "size": 10
          },
          "showarrow": false,
          "text": "1",
          "textangle": -90,
          "valign": "bottom",
          "x": 0,
          "xanchor": "right",
          "xref": "paper",
          "y": 7,
          "yanchor": "bottom"
         },
         {
          "align": "center",
          "font": {
           "size": 10
          },
          "showarrow": false,
          "text": "1",
          "textangle": -90,
          "valign": "bottom",
          "x": 0,
          "xanchor": "right",
          "xref": "paper",
          "y": 3,
          "yanchor": "bottom"
         },
         {
          "align": "center",
          "font": {
           "size": 10
          },
          "showarrow": false,
          "text": "1",
          "textangle": -90,
          "valign": "bottom",
          "x": 0,
          "xanchor": "right",
          "xref": "paper",
          "y": 9,
          "yanchor": "bottom"
         },
         {
          "align": "center",
          "font": {
           "size": 10
          },
          "showarrow": false,
          "text": "1",
          "textangle": -90,
          "valign": "bottom",
          "x": 0,
          "xanchor": "right",
          "xref": "paper",
          "y": 5,
          "yanchor": "bottom"
         },
         {
          "align": "center",
          "font": {
           "size": 10
          },
          "showarrow": false,
          "text": "1",
          "textangle": -90,
          "valign": "bottom",
          "x": 0,
          "xanchor": "right",
          "xref": "paper",
          "y": 11,
          "yanchor": "bottom"
         },
         {
          "align": "center",
          "font": {
           "size": 10
          },
          "showarrow": false,
          "text": "0",
          "textangle": -90,
          "valign": "bottom",
          "x": -0.05,
          "xanchor": "right",
          "xref": "paper",
          "y": 0.5,
          "yanchor": "bottom"
         },
         {
          "align": "center",
          "font": {
           "size": 10
          },
          "showarrow": false,
          "text": "0",
          "textangle": -90,
          "valign": "bottom",
          "x": -0.05,
          "xanchor": "right",
          "xref": "paper",
          "y": 6.5,
          "yanchor": "bottom"
         },
         {
          "align": "center",
          "font": {
           "size": 10
          },
          "showarrow": false,
          "text": "1",
          "textangle": -90,
          "valign": "bottom",
          "x": -0.05,
          "xanchor": "right",
          "xref": "paper",
          "y": 2.5,
          "yanchor": "bottom"
         },
         {
          "align": "center",
          "font": {
           "size": 10
          },
          "showarrow": false,
          "text": "1",
          "textangle": -90,
          "valign": "bottom",
          "x": -0.05,
          "xanchor": "right",
          "xref": "paper",
          "y": 8.5,
          "yanchor": "bottom"
         },
         {
          "align": "center",
          "font": {
           "size": 10
          },
          "showarrow": false,
          "text": "10",
          "textangle": -90,
          "valign": "bottom",
          "x": -0.05,
          "xanchor": "right",
          "xref": "paper",
          "y": 4.5,
          "yanchor": "bottom"
         },
         {
          "align": "center",
          "font": {
           "size": 10
          },
          "showarrow": false,
          "text": "10",
          "textangle": -90,
          "valign": "bottom",
          "x": -0.05,
          "xanchor": "right",
          "xref": "paper",
          "y": 10.5,
          "yanchor": "bottom"
         },
         {
          "align": "center",
          "font": {
           "size": 10
          },
          "showarrow": false,
          "text": "PO",
          "textangle": -90,
          "valign": "bottom",
          "x": -0.1,
          "xanchor": "right",
          "xref": "paper",
          "y": 2.5,
          "yanchor": "bottom"
         },
         {
          "align": "center",
          "font": {
           "size": 10
          },
          "showarrow": false,
          "text": "PS",
          "textangle": -90,
          "valign": "bottom",
          "x": -0.1,
          "xanchor": "right",
          "xref": "paper",
          "y": 8.5,
          "yanchor": "bottom"
         },
         {
          "align": "right",
          "font": {
           "size": 14
          },
          "showarrow": false,
          "text": "tail_species",
          "valign": "bottom",
          "x": 0,
          "xanchor": "right",
          "xref": "paper",
          "y": 1,
          "yanchor": "bottom",
          "yref": "paper"
         },
         {
          "align": "right",
          "font": {
           "size": 14
          },
          "showarrow": false,
          "text": "size",
          "valign": "bottom",
          "x": 0,
          "xanchor": "right",
          "xref": "paper",
          "y": 1.0833333333333333,
          "yanchor": "bottom",
          "yref": "paper"
         },
         {
          "align": "right",
          "font": {
           "size": 14
          },
          "showarrow": false,
          "text": "concentration",
          "valign": "bottom",
          "x": 0,
          "xanchor": "right",
          "xref": "paper",
          "y": 1.1666666666666667,
          "yanchor": "bottom",
          "yref": "paper"
         },
         {
          "align": "center",
          "font": {
           "size": 9
          },
          "showarrow": false,
          "text": "tail1",
          "valign": "bottom",
          "x": 0,
          "xanchor": "center",
          "y": 1,
          "yanchor": "bottom",
          "yref": "paper"
         },
         {
          "align": "center",
          "font": {
           "size": 9
          },
          "showarrow": false,
          "text": "tail1",
          "valign": "bottom",
          "x": 6,
          "xanchor": "center",
          "y": 1,
          "yanchor": "bottom",
          "yref": "paper"
         },
         {
          "align": "center",
          "font": {
           "size": 9
          },
          "showarrow": false,
          "text": "tail1",
          "valign": "bottom",
          "x": 12,
          "xanchor": "center",
          "y": 1,
          "yanchor": "bottom",
          "yref": "paper"
         },
         {
          "align": "center",
          "font": {
           "size": 9
          },
          "showarrow": false,
          "text": "tail1",
          "valign": "bottom",
          "x": 18,
          "xanchor": "center",
          "y": 1,
          "yanchor": "bottom",
          "yref": "paper"
         },
         {
          "align": "center",
          "font": {
           "size": 9
          },
          "showarrow": false,
          "text": "tail1",
          "valign": "bottom",
          "x": 3,
          "xanchor": "center",
          "y": 1,
          "yanchor": "bottom",
          "yref": "paper"
         },
         {
          "align": "center",
          "font": {
           "size": 9
          },
          "showarrow": false,
          "text": "tail1",
          "valign": "bottom",
          "x": 9,
          "xanchor": "center",
          "y": 1,
          "yanchor": "bottom",
          "yref": "paper"
         },
         {
          "align": "center",
          "font": {
           "size": 9
          },
          "showarrow": false,
          "text": "tail1",
          "valign": "bottom",
          "x": 15,
          "xanchor": "center",
          "y": 1,
          "yanchor": "bottom",
          "yref": "paper"
         },
         {
          "align": "center",
          "font": {
           "size": 9
          },
          "showarrow": false,
          "text": "tail1",
          "valign": "bottom",
          "x": 21,
          "xanchor": "center",
          "y": 1,
          "yanchor": "bottom",
          "yref": "paper"
         },
         {
          "align": "center",
          "font": {
           "size": 9
          },
          "showarrow": false,
          "text": "tail2",
          "valign": "bottom",
          "x": 1,
          "xanchor": "center",
          "y": 1,
          "yanchor": "bottom",
          "yref": "paper"
         },
         {
          "align": "center",
          "font": {
           "size": 9
          },
          "showarrow": false,
          "text": "tail2",
          "valign": "bottom",
          "x": 7,
          "xanchor": "center",
          "y": 1,
          "yanchor": "bottom",
          "yref": "paper"
         },
         {
          "align": "center",
          "font": {
           "size": 9
          },
          "showarrow": false,
          "text": "tail2",
          "valign": "bottom",
          "x": 13,
          "xanchor": "center",
          "y": 1,
          "yanchor": "bottom",
          "yref": "paper"
         },
         {
          "align": "center",
          "font": {
           "size": 9
          },
          "showarrow": false,
          "text": "tail2",
          "valign": "bottom",
          "x": 19,
          "xanchor": "center",
          "y": 1,
          "yanchor": "bottom",
          "yref": "paper"
         },
         {
          "align": "center",
          "font": {
           "size": 9
          },
          "showarrow": false,
          "text": "tail2",
          "valign": "bottom",
          "x": 4,
          "xanchor": "center",
          "y": 1,
          "yanchor": "bottom",
          "yref": "paper"
         },
         {
          "align": "center",
          "font": {
           "size": 9
          },
          "showarrow": false,
          "text": "tail2",
          "valign": "bottom",
          "x": 10,
          "xanchor": "center",
          "y": 1,
          "yanchor": "bottom",
          "yref": "paper"
         },
         {
          "align": "center",
          "font": {
           "size": 9
          },
          "showarrow": false,
          "text": "tail2",
          "valign": "bottom",
          "x": 16,
          "xanchor": "center",
          "y": 1,
          "yanchor": "bottom",
          "yref": "paper"
         },
         {
          "align": "center",
          "font": {
           "size": 9
          },
          "showarrow": false,
          "text": "tail2",
          "valign": "bottom",
          "x": 22,
          "xanchor": "center",
          "y": 1,
          "yanchor": "bottom",
          "yref": "paper"
         },
         {
          "align": "center",
          "font": {
           "size": 9
          },
          "showarrow": false,
          "text": "tail3",
          "valign": "bottom",
          "x": 2,
          "xanchor": "center",
          "y": 1,
          "yanchor": "bottom",
          "yref": "paper"
         },
         {
          "align": "center",
          "font": {
           "size": 9
          },
          "showarrow": false,
          "text": "tail3",
          "valign": "bottom",
          "x": 8,
          "xanchor": "center",
          "y": 1,
          "yanchor": "bottom",
          "yref": "paper"
         },
         {
          "align": "center",
          "font": {
           "size": 9
          },
          "showarrow": false,
          "text": "tail3",
          "valign": "bottom",
          "x": 14,
          "xanchor": "center",
          "y": 1,
          "yanchor": "bottom",
          "yref": "paper"
         },
         {
          "align": "center",
          "font": {
           "size": 9
          },
          "showarrow": false,
          "text": "tail3",
          "valign": "bottom",
          "x": 20,
          "xanchor": "center",
          "y": 1,
          "yanchor": "bottom",
          "yref": "paper"
         },
         {
          "align": "center",
          "font": {
           "size": 9
          },
          "showarrow": false,
          "text": "tail3",
          "valign": "bottom",
          "x": 5,
          "xanchor": "center",
          "y": 1,
          "yanchor": "bottom",
          "yref": "paper"
         },
         {
          "align": "center",
          "font": {
           "size": 9
          },
          "showarrow": false,
          "text": "tail3",
          "valign": "bottom",
          "x": 11,
          "xanchor": "center",
          "y": 1,
          "yanchor": "bottom",
          "yref": "paper"
         },
         {
          "align": "center",
          "font": {
           "size": 9
          },
          "showarrow": false,
          "text": "tail3",
          "valign": "bottom",
          "x": 17,
          "xanchor": "center",
          "y": 1,
          "yanchor": "bottom",
          "yref": "paper"
         },
         {
          "align": "center",
          "font": {
           "size": 9
          },
          "showarrow": false,
          "text": "tail3",
          "valign": "bottom",
          "x": 23,
          "xanchor": "center",
          "y": 1,
          "yanchor": "bottom",
          "yref": "paper"
         },
         {
          "align": "center",
          "font": {
           "size": 10
          },
          "showarrow": false,
          "text": "100",
          "valign": "bottom",
          "x": 1,
          "xanchor": "center",
          "y": 1.0833333333333333,
          "yanchor": "bottom",
          "yref": "paper"
         },
         {
          "align": "center",
          "font": {
           "size": 10
          },
          "showarrow": false,
          "text": "100",
          "valign": "bottom",
          "x": 7,
          "xanchor": "center",
          "y": 1.0833333333333333,
          "yanchor": "bottom",
          "yref": "paper"
         },
         {
          "align": "center",
          "font": {
           "size": 10
          },
          "showarrow": false,
          "text": "100",
          "valign": "bottom",
          "x": 13,
          "xanchor": "center",
          "y": 1.0833333333333333,
          "yanchor": "bottom",
          "yref": "paper"
         },
         {
          "align": "center",
          "font": {
           "size": 10
          },
          "showarrow": false,
          "text": "100",
          "valign": "bottom",
          "x": 19,
          "xanchor": "center",
          "y": 1.0833333333333333,
          "yanchor": "bottom",
          "yref": "paper"
         },
         {
          "align": "center",
          "font": {
           "size": 10
          },
          "showarrow": false,
          "text": "200",
          "valign": "bottom",
          "x": 4,
          "xanchor": "center",
          "y": 1.0833333333333333,
          "yanchor": "bottom",
          "yref": "paper"
         },
         {
          "align": "center",
          "font": {
           "size": 10
          },
          "showarrow": false,
          "text": "200",
          "valign": "bottom",
          "x": 10,
          "xanchor": "center",
          "y": 1.0833333333333333,
          "yanchor": "bottom",
          "yref": "paper"
         },
         {
          "align": "center",
          "font": {
           "size": 10
          },
          "showarrow": false,
          "text": "200",
          "valign": "bottom",
          "x": 16,
          "xanchor": "center",
          "y": 1.0833333333333333,
          "yanchor": "bottom",
          "yref": "paper"
         },
         {
          "align": "center",
          "font": {
           "size": 10
          },
          "showarrow": false,
          "text": "200",
          "valign": "bottom",
          "x": 22,
          "xanchor": "center",
          "y": 1.0833333333333333,
          "yanchor": "bottom",
          "yref": "paper"
         },
         {
          "align": "center",
          "font": {
           "size": 12
          },
          "showarrow": false,
          "text": "1",
          "valign": "bottom",
          "x": 2.5,
          "xanchor": "center",
          "y": 1.1666666666666667,
          "yanchor": "bottom",
          "yref": "paper"
         },
         {
          "align": "center",
          "font": {
           "size": 12
          },
          "showarrow": false,
          "text": "10",
          "valign": "bottom",
          "x": 8.5,
          "xanchor": "center",
          "y": 1.1666666666666667,
          "yanchor": "bottom",
          "yref": "paper"
         },
         {
          "align": "center",
          "font": {
           "size": 12
          },
          "showarrow": false,
          "text": "100",
          "valign": "bottom",
          "x": 14.5,
          "xanchor": "center",
          "y": 1.1666666666666667,
          "yanchor": "bottom",
          "yref": "paper"
         },
         {
          "align": "center",
          "font": {
           "size": 12
          },
          "showarrow": false,
          "text": "1000",
          "valign": "bottom",
          "x": 20.5,
          "xanchor": "center",
          "y": 1.1666666666666667,
          "yanchor": "bottom",
          "yref": "paper"
         }
        ],
        "height": 560,
        "margin": {
         "b": 150,
         "l": 150,
         "r": 20,
         "t": 100
        },
        "shapes": [
         {
          "line": {
           "color": "Black",
           "width": 0.5
          },
          "type": "line",
          "x0": -0.05,
          "x1": -0.05,
          "xref": "paper",
          "y0": -0.4,
          "y1": 1.4,
          "yref": "y"
         },
         {
          "line": {
           "color": "Black",
           "width": 0.5
          },
          "type": "line",
          "x0": -0.05,
          "x1": -0.05,
          "xref": "paper",
          "y0": 5.6,
          "y1": 7.4,
          "yref": "y"
         },
         {
          "line": {
           "color": "Black",
           "width": 0.5
          },
          "type": "line",
          "x0": -0.05,
          "x1": -0.05,
          "xref": "paper",
          "y0": 1.6,
          "y1": 3.4,
          "yref": "y"
         },
         {
          "line": {
           "color": "Black",
           "width": 0.5
          },
          "type": "line",
          "x0": -0.05,
          "x1": -0.05,
          "xref": "paper",
          "y0": 7.6,
          "y1": 9.4,
          "yref": "y"
         },
         {
          "line": {
           "color": "Black",
           "width": 0.5
          },
          "type": "line",
          "x0": -0.05,
          "x1": -0.05,
          "xref": "paper",
          "y0": 3.6,
          "y1": 5.4,
          "yref": "y"
         },
         {
          "line": {
           "color": "Black",
           "width": 0.5
          },
          "type": "line",
          "x0": -0.05,
          "x1": -0.05,
          "xref": "paper",
          "y0": 9.6,
          "y1": 11.4,
          "yref": "y"
         },
         {
          "line": {
           "color": "Black",
           "width": 0.5
          },
          "type": "line",
          "x0": -0.1,
          "x1": -0.1,
          "xref": "paper",
          "y0": -0.4,
          "y1": 5.4,
          "yref": "y"
         },
         {
          "line": {
           "color": "Black",
           "width": 0.5
          },
          "type": "line",
          "x0": -0.1,
          "x1": -0.1,
          "xref": "paper",
          "y0": 5.6,
          "y1": 11.4,
          "yref": "y"
         },
         {
          "line": {
           "color": "Black",
           "width": 0.5
          },
          "type": "line",
          "x0": -0.4,
          "x1": 2.4,
          "xref": "x",
          "y0": 1.0833333333333333,
          "y1": 1.0833333333333333,
          "yref": "paper"
         },
         {
          "line": {
           "color": "Black",
           "width": 0.5
          },
          "type": "line",
          "x0": 5.6,
          "x1": 8.4,
          "xref": "x",
          "y0": 1.0833333333333333,
          "y1": 1.0833333333333333,
          "yref": "paper"
         },
         {
          "line": {
           "color": "Black",
           "width": 0.5
          },
          "type": "line",
          "x0": 11.6,
          "x1": 14.4,
          "xref": "x",
          "y0": 1.0833333333333333,
          "y1": 1.0833333333333333,
          "yref": "paper"
         },
         {
          "line": {
           "color": "Black",
           "width": 0.5
          },
          "type": "line",
          "x0": 17.6,
          "x1": 20.4,
          "xref": "x",
          "y0": 1.0833333333333333,
          "y1": 1.0833333333333333,
          "yref": "paper"
         },
         {
          "line": {
           "color": "Black",
           "width": 0.5
          },
          "type": "line",
          "x0": 2.6,
          "x1": 5.4,
          "xref": "x",
          "y0": 1.0833333333333333,
          "y1": 1.0833333333333333,
          "yref": "paper"
         },
         {
          "line": {
           "color": "Black",
           "width": 0.5
          },
          "type": "line",
          "x0": 8.6,
          "x1": 11.4,
          "xref": "x",
          "y0": 1.0833333333333333,
          "y1": 1.0833333333333333,
          "yref": "paper"
         },
         {
          "line": {
           "color": "Black",
           "width": 0.5
          },
          "type": "line",
          "x0": 14.6,
          "x1": 17.4,
          "xref": "x",
          "y0": 1.0833333333333333,
          "y1": 1.0833333333333333,
          "yref": "paper"
         },
         {
          "line": {
           "color": "Black",
           "width": 0.5
          },
          "type": "line",
          "x0": 20.6,
          "x1": 23.4,
          "xref": "x",
          "y0": 1.0833333333333333,
          "y1": 1.0833333333333333,
          "yref": "paper"
         },
         {
          "line": {
           "color": "Black",
           "width": 0.5
          },
          "type": "line",
          "x0": -0.4,
          "x1": 5.4,
          "xref": "x",
          "y0": 1.1666666666666667,
          "y1": 1.1666666666666667,
          "yref": "paper"
         },
         {
          "line": {
           "color": "Black",
           "width": 0.5
          },
          "type": "line",
          "x0": 5.6,
          "x1": 11.4,
          "xref": "x",
          "y0": 1.1666666666666667,
          "y1": 1.1666666666666667,
          "yref": "paper"
         },
         {
          "line": {
           "color": "Black",
           "width": 0.5
          },
          "type": "line",
          "x0": 11.6,
          "x1": 17.4,
          "xref": "x",
          "y0": 1.1666666666666667,
          "y1": 1.1666666666666667,
          "yref": "paper"
         },
         {
          "line": {
           "color": "Black",
           "width": 0.5
          },
          "type": "line",
          "x0": 17.6,
          "x1": 23.4,
          "xref": "x",
          "y0": 1.1666666666666667,
          "y1": 1.1666666666666667,
          "yref": "paper"
         }
        ],
        "template": {
         "data": {
          "bar": [
           {
            "error_x": {
             "color": "#2a3f5f"
            },
            "error_y": {
             "color": "#2a3f5f"
            },
            "marker": {
             "line": {
              "color": "#E5ECF6",
              "width": 0.5
             },
             "pattern": {
              "fillmode": "overlay",
              "size": 10,
              "solidity": 0.2
             }
            },
            "type": "bar"
           }
          ],
          "barpolar": [
           {
            "marker": {
             "line": {
              "color": "#E5ECF6",
              "width": 0.5
             },
             "pattern": {
              "fillmode": "overlay",
              "size": 10,
              "solidity": 0.2
             }
            },
            "type": "barpolar"
           }
          ],
          "carpet": [
           {
            "aaxis": {
             "endlinecolor": "#2a3f5f",
             "gridcolor": "white",
             "linecolor": "white",
             "minorgridcolor": "white",
             "startlinecolor": "#2a3f5f"
            },
            "baxis": {
             "endlinecolor": "#2a3f5f",
             "gridcolor": "white",
             "linecolor": "white",
             "minorgridcolor": "white",
             "startlinecolor": "#2a3f5f"
            },
            "type": "carpet"
           }
          ],
          "choropleth": [
           {
            "colorbar": {
             "outlinewidth": 0,
             "ticks": ""
            },
            "type": "choropleth"
           }
          ],
          "contour": [
           {
            "colorbar": {
             "outlinewidth": 0,
             "ticks": ""
            },
            "colorscale": [
             [
              0,
              "#0d0887"
             ],
             [
              0.1111111111111111,
              "#46039f"
             ],
             [
              0.2222222222222222,
              "#7201a8"
             ],
             [
              0.3333333333333333,
              "#9c179e"
             ],
             [
              0.4444444444444444,
              "#bd3786"
             ],
             [
              0.5555555555555556,
              "#d8576b"
             ],
             [
              0.6666666666666666,
              "#ed7953"
             ],
             [
              0.7777777777777778,
              "#fb9f3a"
             ],
             [
              0.8888888888888888,
              "#fdca26"
             ],
             [
              1,
              "#f0f921"
             ]
            ],
            "type": "contour"
           }
          ],
          "contourcarpet": [
           {
            "colorbar": {
             "outlinewidth": 0,
             "ticks": ""
            },
            "type": "contourcarpet"
           }
          ],
          "heatmap": [
           {
            "colorbar": {
             "outlinewidth": 0,
             "ticks": ""
            },
            "colorscale": [
             [
              0,
              "#0d0887"
             ],
             [
              0.1111111111111111,
              "#46039f"
             ],
             [
              0.2222222222222222,
              "#7201a8"
             ],
             [
              0.3333333333333333,
              "#9c179e"
             ],
             [
              0.4444444444444444,
              "#bd3786"
             ],
             [
              0.5555555555555556,
              "#d8576b"
             ],
             [
              0.6666666666666666,
              "#ed7953"
             ],
             [
              0.7777777777777778,
              "#fb9f3a"
             ],
             [
              0.8888888888888888,
              "#fdca26"
             ],
             [
              1,
              "#f0f921"
             ]
            ],
            "type": "heatmap"
           }
          ],
          "heatmapgl": [
           {
            "colorbar": {
             "outlinewidth": 0,
             "ticks": ""
            },
            "colorscale": [
             [
              0,
              "#0d0887"
             ],
             [
              0.1111111111111111,
              "#46039f"
             ],
             [
              0.2222222222222222,
              "#7201a8"
             ],
             [
              0.3333333333333333,
              "#9c179e"
             ],
             [
              0.4444444444444444,
              "#bd3786"
             ],
             [
              0.5555555555555556,
              "#d8576b"
             ],
             [
              0.6666666666666666,
              "#ed7953"
             ],
             [
              0.7777777777777778,
              "#fb9f3a"
             ],
             [
              0.8888888888888888,
              "#fdca26"
             ],
             [
              1,
              "#f0f921"
             ]
            ],
            "type": "heatmapgl"
           }
          ],
          "histogram": [
           {
            "marker": {
             "pattern": {
              "fillmode": "overlay",
              "size": 10,
              "solidity": 0.2
             }
            },
            "type": "histogram"
           }
          ],
          "histogram2d": [
           {
            "colorbar": {
             "outlinewidth": 0,
             "ticks": ""
            },
            "colorscale": [
             [
              0,
              "#0d0887"
             ],
             [
              0.1111111111111111,
              "#46039f"
             ],
             [
              0.2222222222222222,
              "#7201a8"
             ],
             [
              0.3333333333333333,
              "#9c179e"
             ],
             [
              0.4444444444444444,
              "#bd3786"
             ],
             [
              0.5555555555555556,
              "#d8576b"
             ],
             [
              0.6666666666666666,
              "#ed7953"
             ],
             [
              0.7777777777777778,
              "#fb9f3a"
             ],
             [
              0.8888888888888888,
              "#fdca26"
             ],
             [
              1,
              "#f0f921"
             ]
            ],
            "type": "histogram2d"
           }
          ],
          "histogram2dcontour": [
           {
            "colorbar": {
             "outlinewidth": 0,
             "ticks": ""
            },
            "colorscale": [
             [
              0,
              "#0d0887"
             ],
             [
              0.1111111111111111,
              "#46039f"
             ],
             [
              0.2222222222222222,
              "#7201a8"
             ],
             [
              0.3333333333333333,
              "#9c179e"
             ],
             [
              0.4444444444444444,
              "#bd3786"
             ],
             [
              0.5555555555555556,
              "#d8576b"
             ],
             [
              0.6666666666666666,
              "#ed7953"
             ],
             [
              0.7777777777777778,
              "#fb9f3a"
             ],
             [
              0.8888888888888888,
              "#fdca26"
             ],
             [
              1,
              "#f0f921"
             ]
            ],
            "type": "histogram2dcontour"
           }
          ],
          "mesh3d": [
           {
            "colorbar": {
             "outlinewidth": 0,
             "ticks": ""
            },
            "type": "mesh3d"
           }
          ],
          "parcoords": [
           {
            "line": {
             "colorbar": {
              "outlinewidth": 0,
              "ticks": ""
             }
            },
            "type": "parcoords"
           }
          ],
          "pie": [
           {
            "automargin": true,
            "type": "pie"
           }
          ],
          "scatter": [
           {
            "fillpattern": {
             "fillmode": "overlay",
             "size": 10,
             "solidity": 0.2
            },
            "type": "scatter"
           }
          ],
          "scatter3d": [
           {
            "line": {
             "colorbar": {
              "outlinewidth": 0,
              "ticks": ""
             }
            },
            "marker": {
             "colorbar": {
              "outlinewidth": 0,
              "ticks": ""
             }
            },
            "type": "scatter3d"
           }
          ],
          "scattercarpet": [
           {
            "marker": {
             "colorbar": {
              "outlinewidth": 0,
              "ticks": ""
             }
            },
            "type": "scattercarpet"
           }
          ],
          "scattergeo": [
           {
            "marker": {
             "colorbar": {
              "outlinewidth": 0,
              "ticks": ""
             }
            },
            "type": "scattergeo"
           }
          ],
          "scattergl": [
           {
            "marker": {
             "colorbar": {
              "outlinewidth": 0,
              "ticks": ""
             }
            },
            "type": "scattergl"
           }
          ],
          "scattermapbox": [
           {
            "marker": {
             "colorbar": {
              "outlinewidth": 0,
              "ticks": ""
             }
            },
            "type": "scattermapbox"
           }
          ],
          "scatterpolar": [
           {
            "marker": {
             "colorbar": {
              "outlinewidth": 0,
              "ticks": ""
             }
            },
            "type": "scatterpolar"
           }
          ],
          "scatterpolargl": [
           {
            "marker": {
             "colorbar": {
              "outlinewidth": 0,
              "ticks": ""
             }
            },
            "type": "scatterpolargl"
           }
          ],
          "scatterternary": [
           {
            "marker": {
             "colorbar": {
              "outlinewidth": 0,
              "ticks": ""
             }
            },
            "type": "scatterternary"
           }
          ],
          "surface": [
           {
            "colorbar": {
             "outlinewidth": 0,
             "ticks": ""
            },
            "colorscale": [
             [
              0,
              "#0d0887"
             ],
             [
              0.1111111111111111,
              "#46039f"
             ],
             [
              0.2222222222222222,
              "#7201a8"
             ],
             [
              0.3333333333333333,
              "#9c179e"
             ],
             [
              0.4444444444444444,
              "#bd3786"
             ],
             [
              0.5555555555555556,
              "#d8576b"
             ],
             [
              0.6666666666666666,
              "#ed7953"
             ],
             [
              0.7777777777777778,
              "#fb9f3a"
             ],
             [
              0.8888888888888888,
              "#fdca26"
             ],
             [
              1,
              "#f0f921"
             ]
            ],
            "type": "surface"
           }
          ],
          "table": [
           {
            "cells": {
             "fill": {
              "color": "#EBF0F8"
             },
             "line": {
              "color": "white"
             }
            },
            "header": {
             "fill": {
              "color": "#C8D4E3"
             },
             "line": {
              "color": "white"
             }
            },
            "type": "table"
           }
          ]
         },
         "layout": {
          "annotationdefaults": {
           "arrowcolor": "#2a3f5f",
           "arrowhead": 0,
           "arrowwidth": 1
          },
          "autotypenumbers": "strict",
          "coloraxis": {
           "colorbar": {
            "outlinewidth": 0,
            "ticks": ""
           }
          },
          "colorscale": {
           "diverging": [
            [
             0,
             "#8e0152"
            ],
            [
             0.1,
             "#c51b7d"
            ],
            [
             0.2,
             "#de77ae"
            ],
            [
             0.3,
             "#f1b6da"
            ],
            [
             0.4,
             "#fde0ef"
            ],
            [
             0.5,
             "#f7f7f7"
            ],
            [
             0.6,
             "#e6f5d0"
            ],
            [
             0.7,
             "#b8e186"
            ],
            [
             0.8,
             "#7fbc41"
            ],
            [
             0.9,
             "#4d9221"
            ],
            [
             1,
             "#276419"
            ]
           ],
           "sequential": [
            [
             0,
             "#0d0887"
            ],
            [
             0.1111111111111111,
             "#46039f"
            ],
            [
             0.2222222222222222,
             "#7201a8"
            ],
            [
             0.3333333333333333,
             "#9c179e"
            ],
            [
             0.4444444444444444,
             "#bd3786"
            ],
            [
             0.5555555555555556,
             "#d8576b"
            ],
            [
             0.6666666666666666,
             "#ed7953"
            ],
            [
             0.7777777777777778,
             "#fb9f3a"
            ],
            [
             0.8888888888888888,
             "#fdca26"
            ],
            [
             1,
             "#f0f921"
            ]
           ],
           "sequentialminus": [
            [
             0,
             "#0d0887"
            ],
            [
             0.1111111111111111,
             "#46039f"
            ],
            [
             0.2222222222222222,
             "#7201a8"
            ],
            [
             0.3333333333333333,
             "#9c179e"
            ],
            [
             0.4444444444444444,
             "#bd3786"
            ],
            [
             0.5555555555555556,
             "#d8576b"
            ],
            [
             0.6666666666666666,
             "#ed7953"
            ],
            [
             0.7777777777777778,
             "#fb9f3a"
            ],
            [
             0.8888888888888888,
             "#fdca26"
            ],
            [
             1,
             "#f0f921"
            ]
           ]
          },
          "colorway": [
           "#636efa",
           "#EF553B",
           "#00cc96",
           "#ab63fa",
           "#FFA15A",
           "#19d3f3",
           "#FF6692",
           "#B6E880",
           "#FF97FF",
           "#FECB52"
          ],
          "font": {
           "color": "#2a3f5f"
          },
          "geo": {
           "bgcolor": "white",
           "lakecolor": "white",
           "landcolor": "#E5ECF6",
           "showlakes": true,
           "showland": true,
           "subunitcolor": "white"
          },
          "hoverlabel": {
           "align": "left"
          },
          "hovermode": "closest",
          "mapbox": {
           "style": "light"
          },
          "paper_bgcolor": "white",
          "plot_bgcolor": "#E5ECF6",
          "polar": {
           "angularaxis": {
            "gridcolor": "white",
            "linecolor": "white",
            "ticks": ""
           },
           "bgcolor": "#E5ECF6",
           "radialaxis": {
            "gridcolor": "white",
            "linecolor": "white",
            "ticks": ""
           }
          },
          "scene": {
           "xaxis": {
            "backgroundcolor": "#E5ECF6",
            "gridcolor": "white",
            "gridwidth": 2,
            "linecolor": "white",
            "showbackground": true,
            "ticks": "",
            "zerolinecolor": "white"
           },
           "yaxis": {
            "backgroundcolor": "#E5ECF6",
            "gridcolor": "white",
            "gridwidth": 2,
            "linecolor": "white",
            "showbackground": true,
            "ticks": "",
            "zerolinecolor": "white"
           },
           "zaxis": {
            "backgroundcolor": "#E5ECF6",
            "gridcolor": "white",
            "gridwidth": 2,
            "linecolor": "white",
            "showbackground": true,
            "ticks": "",
            "zerolinecolor": "white"
           }
          },
          "shapedefaults": {
           "line": {
            "color": "#2a3f5f"
           }
          },
          "ternary": {
           "aaxis": {
            "gridcolor": "white",
            "linecolor": "white",
            "ticks": ""
           },
           "baxis": {
            "gridcolor": "white",
            "linecolor": "white",
            "ticks": ""
           },
           "bgcolor": "#E5ECF6",
           "caxis": {
            "gridcolor": "white",
            "linecolor": "white",
            "ticks": ""
           }
          },
          "title": {
           "x": 0.05
          },
          "xaxis": {
           "automargin": true,
           "gridcolor": "white",
           "linecolor": "white",
           "ticks": "",
           "title": {
            "standoff": 15
           },
           "zerolinecolor": "white",
           "zerolinewidth": 2
          },
          "yaxis": {
           "automargin": true,
           "gridcolor": "white",
           "linecolor": "white",
           "ticks": "",
           "title": {
            "standoff": 15
           },
           "zerolinecolor": "white",
           "zerolinewidth": 2
          }
         }
        },
        "width": 820,
        "xaxis": {
         "autorange": true,
         "range": [
          -0.5246350364963503,
          23.52463503649635
         ],
         "visible": false
        },
        "yaxis": {
         "autorange": true,
         "range": [
          -0.5,
          11.5
         ],
         "visible": false
        }
       }
      },
      "image/png": "[encoded data removed]",
      "text/html": [
       "<div>                            <div id=\"d33d713c-8bed-4e69-8a70-0671f7ea6d03\" class=\"plotly-graph-div\" style=\"height:560px; width:820px;\"></div>            <script type=\"text/javascript\">                require([\"plotly\"], function(Plotly) {                    window.PLOTLYENV=window.PLOTLYENV || {};                                    if (document.getElementById(\"d33d713c-8bed-4e69-8a70-0671f7ea6d03\")) {                    Plotly.newPlot(                        \"d33d713c-8bed-4e69-8a70-0671f7ea6d03\",                        [{\"hoverongaps\":false,\"hovertemplate\":\"%{hovertext}\",\"hovertext\":[[\"Value: 101.41<br>polymer_species: PO<br>polymer_density: 0<br>orientation: 0<br>concentration: 1<br>size: 100<br>tail_species: tail1\",\"Value: 100.36<br>polymer_species: PO<br>polymer_density: 0<br>orientation: 0<br>concentration: 1<br>size: 100<br>tail_species: tail2\",\"Value: 112.38<br>polymer_species: PO<br>polymer_density: 0<br>orientation: 0<br>concentration: 1<br>size: 100<br>tail_species: tail3\",\"Value: 101.07<br>polymer_species: PO<br>polymer_density: 0<br>orientation: 0<br>concentration: 1<br>size: 200<br>tail_species: tail1\",\"Value: 100.83<br>polymer_species: PO<br>polymer_density: 0<br>orientation: 0<br>concentration: 1<br>size: 200<br>tail_species: tail2\",\"Value: 112.96<br>polymer_species: PO<br>polymer_density: 0<br>orientation: 0<br>concentration: 1<br>size: 200<br>tail_species: tail3\",\"Value: 118.52<br>polymer_species: PO<br>polymer_density: 0<br>orientation: 0<br>concentration: 10<br>size: 100<br>tail_species: tail1\",\"Value: 115.39<br>polymer_species: PO<br>polymer_density: 0<br>orientation: 0<br>concentration: 10<br>size: 100<br>tail_species: tail2\",\"Value: 135.8<br>polymer_species: PO<br>polymer_density: 0<br>orientation: 0<br>concentration: 10<br>size: 100<br>tail_species: tail3\",\"Value: 115.55<br>polymer_species: PO<br>polymer_density: 0<br>orientation: 0<br>concentration: 10<br>size: 200<br>tail_species: tail1\",\"Value: 120.31<br>polymer_species: PO<br>polymer_density: 0<br>orientation: 0<br>concentration: 10<br>size: 200<br>tail_species: tail2\",\"Value: 132.53<br>polymer_species: PO<br>polymer_density: 0<br>orientation: 0<br>concentration: 10<br>size: 200<br>tail_species: tail3\",\"Value: 129.57<br>polymer_species: PO<br>polymer_density: 0<br>orientation: 0<br>concentration: 100<br>size: 100<br>tail_species: tail1\",\"Value: 146.19<br>polymer_species: PO<br>polymer_density: 0<br>orientation: 0<br>concentration: 100<br>size: 100<br>tail_species: tail2\",\"Value: 164.88<br>polymer_species: PO<br>polymer_density: 0<br>orientation: 0<br>concentration: 100<br>size: 100<br>tail_species: tail3\",\"Value: 141.61<br>polymer_species: PO<br>polymer_density: 0<br>orientation: 0<br>concentration: 100<br>size: 200<br>tail_species: tail1\",\"Value: 139.94<br>polymer_species: PO<br>polymer_density: 0<br>orientation: 0<br>concentration: 100<br>size: 200<br>tail_species: tail2\",\"Value: 150.79<br>polymer_species: PO<br>polymer_density: 0<br>orientation: 0<br>concentration: 100<br>size: 200<br>tail_species: tail3\",\"Value: 163.17<br>polymer_species: PO<br>polymer_density: 0<br>orientation: 0<br>concentration: 1000<br>size: 100<br>tail_species: tail1\",\"Value: 154.11<br>polymer_species: PO<br>polymer_density: 0<br>orientation: 0<br>concentration: 1000<br>size: 100<br>tail_species: tail2\",\"Value: 167.27<br>polymer_species: PO<br>polymer_density: 0<br>orientation: 0<br>concentration: 1000<br>size: 100<br>tail_species: tail3\",\"Value: 160.24<br>polymer_species: PO<br>polymer_density: 0<br>orientation: 0<br>concentration: 1000<br>size: 200<br>tail_species: tail1\",\"Value: 156.41<br>polymer_species: PO<br>polymer_density: 0<br>orientation: 0<br>concentration: 1000<br>size: 200<br>tail_species: tail2\",\"Value: 161.98<br>polymer_species: PO<br>polymer_density: 0<br>orientation: 0<br>concentration: 1000<br>size: 200<br>tail_species: tail3\"],[\"Value: 100.83<br>polymer_species: PO<br>polymer_density: 0<br>orientation: 1<br>concentration: 1<br>size: 100<br>tail_species: tail1\",\"Value: 101.21<br>polymer_species: PO<br>polymer_density: 0<br>orientation: 1<br>concentration: 1<br>size: 100<br>tail_species: tail2\",\"Value: 105.56<br>polymer_species: PO<br>polymer_density: 0<br>orientation: 1<br>concentration: 1<br>size: 100<br>tail_species: tail3\",\"Value: 96.49<br>polymer_species: PO<br>polymer_density: 0<br>orientation: 1<br>concentration: 1<br>size: 200<br>tail_species: tail1\",\"Value: 99.77<br>polymer_species: PO<br>polymer_density: 0<br>orientation: 1<br>concentration: 1<br>size: 200<br>tail_species: tail2\",\"Value: 113.38<br>polymer_species: PO<br>polymer_density: 0<br>orientation: 1<br>concentration: 1<br>size: 200<br>tail_species: tail3\",\"Value: 120.64<br>polymer_species: PO<br>polymer_density: 0<br>orientation: 1<br>concentration: 10<br>size: 100<br>tail_species: tail1\",\"Value: 116.56<br>polymer_species: PO<br>polymer_density: 0<br>orientation: 1<br>concentration: 10<br>size: 100<br>tail_species: tail2\",\"Value: 134.73<br>polymer_species: PO<br>polymer_density: 0<br>orientation: 1<br>concentration: 10<br>size: 100<br>tail_species: tail3\",\"Value: 112.03<br>polymer_species: PO<br>polymer_density: 0<br>orientation: 1<br>concentration: 10<br>size: 200<br>tail_species: tail1\",\"Value: 116.23<br>polymer_species: PO<br>polymer_density: 0<br>orientation: 1<br>concentration: 10<br>size: 200<br>tail_species: tail2\",\"Value: 132.33<br>polymer_species: PO<br>polymer_density: 0<br>orientation: 1<br>concentration: 10<br>size: 200<br>tail_species: tail3\",\"Value: 135.95<br>polymer_species: PO<br>polymer_density: 0<br>orientation: 1<br>concentration: 100<br>size: 100<br>tail_species: tail1\",\"Value: 132.79<br>polymer_species: PO<br>polymer_density: 0<br>orientation: 1<br>concentration: 100<br>size: 100<br>tail_species: tail2\",\"Value: 148.47<br>polymer_species: PO<br>polymer_density: 0<br>orientation: 1<br>concentration: 100<br>size: 100<br>tail_species: tail3\",\"Value: 130.38<br>polymer_species: PO<br>polymer_density: 0<br>orientation: 1<br>concentration: 100<br>size: 200<br>tail_species: tail1\",\"Value: 136.21<br>polymer_species: PO<br>polymer_density: 0<br>orientation: 1<br>concentration: 100<br>size: 200<br>tail_species: tail2\",\"Value: 157.7<br>polymer_species: PO<br>polymer_density: 0<br>orientation: 1<br>concentration: 100<br>size: 200<br>tail_species: tail3\",\"Value: 162.9<br>polymer_species: PO<br>polymer_density: 0<br>orientation: 1<br>concentration: 1000<br>size: 100<br>tail_species: tail1\",\"Value: 166.6<br>polymer_species: PO<br>polymer_density: 0<br>orientation: 1<br>concentration: 1000<br>size: 100<br>tail_species: tail2\",\"Value: 163.0<br>polymer_species: PO<br>polymer_density: 0<br>orientation: 1<br>concentration: 1000<br>size: 100<br>tail_species: tail3\",\"Value: 160.37<br>polymer_species: PO<br>polymer_density: 0<br>orientation: 1<br>concentration: 1000<br>size: 200<br>tail_species: tail1\",\"Value: 154.53<br>polymer_species: PO<br>polymer_density: 0<br>orientation: 1<br>concentration: 1000<br>size: 200<br>tail_species: tail2\",\"Value: 172.6<br>polymer_species: PO<br>polymer_density: 0<br>orientation: 1<br>concentration: 1000<br>size: 200<br>tail_species: tail3\"],[\"Value: 99.15<br>polymer_species: PO<br>polymer_density: 1<br>orientation: 0<br>concentration: 1<br>size: 100<br>tail_species: tail1\",\"Value: 96.87<br>polymer_species: PO<br>polymer_density: 1<br>orientation: 0<br>concentration: 1<br>size: 100<br>tail_species: tail2\",\"Value: 107.67<br>polymer_species: PO<br>polymer_density: 1<br>orientation: 0<br>concentration: 1<br>size: 100<br>tail_species: tail3\",\"Value: 97.98<br>polymer_species: PO<br>polymer_density: 1<br>orientation: 0<br>concentration: 1<br>size: 200<br>tail_species: tail1\",\"Value: 98.58<br>polymer_species: PO<br>polymer_density: 1<br>orientation: 0<br>concentration: 1<br>size: 200<br>tail_species: tail2\",\"Value: 112.66<br>polymer_species: PO<br>polymer_density: 1<br>orientation: 0<br>concentration: 1<br>size: 200<br>tail_species: tail3\",\"Value: 119.72<br>polymer_species: PO<br>polymer_density: 1<br>orientation: 0<br>concentration: 10<br>size: 100<br>tail_species: tail1\",\"Value: 117.38<br>polymer_species: PO<br>polymer_density: 1<br>orientation: 0<br>concentration: 10<br>size: 100<br>tail_species: tail2\",\"Value: 127.6<br>polymer_species: PO<br>polymer_density: 1<br>orientation: 0<br>concentration: 10<br>size: 100<br>tail_species: tail3\",\"Value: 123.23<br>polymer_species: PO<br>polymer_density: 1<br>orientation: 0<br>concentration: 10<br>size: 200<br>tail_species: tail1\",\"Value: 121.56<br>polymer_species: PO<br>polymer_density: 1<br>orientation: 0<br>concentration: 10<br>size: 200<br>tail_species: tail2\",\"Value: 131.91<br>polymer_species: PO<br>polymer_density: 1<br>orientation: 0<br>concentration: 10<br>size: 200<br>tail_species: tail3\",\"Value: 138.82<br>polymer_species: PO<br>polymer_density: 1<br>orientation: 0<br>concentration: 100<br>size: 100<br>tail_species: tail1\",\"Value: 139.73<br>polymer_species: PO<br>polymer_density: 1<br>orientation: 0<br>concentration: 100<br>size: 100<br>tail_species: tail2\",\"Value: 156.7<br>polymer_species: PO<br>polymer_density: 1<br>orientation: 0<br>concentration: 100<br>size: 100<br>tail_species: tail3\",\"Value: 146.61<br>polymer_species: PO<br>polymer_density: 1<br>orientation: 0<br>concentration: 100<br>size: 200<br>tail_species: tail1\",\"Value: 138.81<br>polymer_species: PO<br>polymer_density: 1<br>orientation: 0<br>concentration: 100<br>size: 200<br>tail_species: tail2\",\"Value: 161.45<br>polymer_species: PO<br>polymer_density: 1<br>orientation: 0<br>concentration: 100<br>size: 200<br>tail_species: tail3\",\"Value: 161.82<br>polymer_species: PO<br>polymer_density: 1<br>orientation: 0<br>concentration: 1000<br>size: 100<br>tail_species: tail1\",\"Value: 160.19<br>polymer_species: PO<br>polymer_density: 1<br>orientation: 0<br>concentration: 1000<br>size: 100<br>tail_species: tail2\",\"Value: 183.86<br>polymer_species: PO<br>polymer_density: 1<br>orientation: 0<br>concentration: 1000<br>size: 100<br>tail_species: tail3\",\"Value: 157.5<br>polymer_species: PO<br>polymer_density: 1<br>orientation: 0<br>concentration: 1000<br>size: 200<br>tail_species: tail1\",\"Value: 158.52<br>polymer_species: PO<br>polymer_density: 1<br>orientation: 0<br>concentration: 1000<br>size: 200<br>tail_species: tail2\",\"Value: 182.44<br>polymer_species: PO<br>polymer_density: 1<br>orientation: 0<br>concentration: 1000<br>size: 200<br>tail_species: tail3\"],[\"Value: 96.74<br>polymer_species: PO<br>polymer_density: 1<br>orientation: 1<br>concentration: 1<br>size: 100<br>tail_species: tail1\",\"Value: 101.73<br>polymer_species: PO<br>polymer_density: 1<br>orientation: 1<br>concentration: 1<br>size: 100<br>tail_species: tail2\",\"Value: 112.79<br>polymer_species: PO<br>polymer_density: 1<br>orientation: 1<br>concentration: 1<br>size: 100<br>tail_species: tail3\",\"Value: 99.32<br>polymer_species: PO<br>polymer_density: 1<br>orientation: 1<br>concentration: 1<br>size: 200<br>tail_species: tail1\",\"Value: 96.44<br>polymer_species: PO<br>polymer_density: 1<br>orientation: 1<br>concentration: 1<br>size: 200<br>tail_species: tail2\",\"Value: 111.88<br>polymer_species: PO<br>polymer_density: 1<br>orientation: 1<br>concentration: 1<br>size: 200<br>tail_species: tail3\",\"Value: 121.45<br>polymer_species: PO<br>polymer_density: 1<br>orientation: 1<br>concentration: 10<br>size: 100<br>tail_species: tail1\",\"Value: 125.27<br>polymer_species: PO<br>polymer_density: 1<br>orientation: 1<br>concentration: 10<br>size: 100<br>tail_species: tail2\",\"Value: 135.94<br>polymer_species: PO<br>polymer_density: 1<br>orientation: 1<br>concentration: 10<br>size: 100<br>tail_species: tail3\",\"Value: 123.83<br>polymer_species: PO<br>polymer_density: 1<br>orientation: 1<br>concentration: 10<br>size: 200<br>tail_species: tail1\",\"Value: 119.91<br>polymer_species: PO<br>polymer_density: 1<br>orientation: 1<br>concentration: 10<br>size: 200<br>tail_species: tail2\",\"Value: 131.78<br>polymer_species: PO<br>polymer_density: 1<br>orientation: 1<br>concentration: 10<br>size: 200<br>tail_species: tail3\",\"Value: 136.45<br>polymer_species: PO<br>polymer_density: 1<br>orientation: 1<br>concentration: 100<br>size: 100<br>tail_species: tail1\",\"Value: 143.73<br>polymer_species: PO<br>polymer_density: 1<br>orientation: 1<br>concentration: 100<br>size: 100<br>tail_species: tail2\",\"Value: 149.07<br>polymer_species: PO<br>polymer_density: 1<br>orientation: 1<br>concentration: 100<br>size: 100<br>tail_species: tail3\",\"Value: 135.23<br>polymer_species: PO<br>polymer_density: 1<br>orientation: 1<br>concentration: 100<br>size: 200<br>tail_species: tail1\",\"Value: 140.29<br>polymer_species: PO<br>polymer_density: 1<br>orientation: 1<br>concentration: 100<br>size: 200<br>tail_species: tail2\",\"Value: 157.61<br>polymer_species: PO<br>polymer_density: 1<br>orientation: 1<br>concentration: 100<br>size: 200<br>tail_species: tail3\",\"Value: 170.18<br>polymer_species: PO<br>polymer_density: 1<br>orientation: 1<br>concentration: 1000<br>size: 100<br>tail_species: tail1\",\"Value: 155.54<br>polymer_species: PO<br>polymer_density: 1<br>orientation: 1<br>concentration: 1000<br>size: 100<br>tail_species: tail2\",\"Value: 167.8<br>polymer_species: PO<br>polymer_density: 1<br>orientation: 1<br>concentration: 1000<br>size: 100<br>tail_species: tail3\",\"Value: 163.02<br>polymer_species: PO<br>polymer_density: 1<br>orientation: 1<br>concentration: 1000<br>size: 200<br>tail_species: tail1\",\"Value: 163.17<br>polymer_species: PO<br>polymer_density: 1<br>orientation: 1<br>concentration: 1000<br>size: 200<br>tail_species: tail2\",\"Value: 178.22<br>polymer_species: PO<br>polymer_density: 1<br>orientation: 1<br>concentration: 1000<br>size: 200<br>tail_species: tail3\"],[\"Value: 85.93<br>polymer_species: PO<br>polymer_density: 10<br>orientation: 0<br>concentration: 1<br>size: 100<br>tail_species: tail1\",\"Value: 87.67<br>polymer_species: PO<br>polymer_density: 10<br>orientation: 0<br>concentration: 1<br>size: 100<br>tail_species: tail2\",\"Value: 95.91<br>polymer_species: PO<br>polymer_density: 10<br>orientation: 0<br>concentration: 1<br>size: 100<br>tail_species: tail3\",\"Value: 85.2<br>polymer_species: PO<br>polymer_density: 10<br>orientation: 0<br>concentration: 1<br>size: 200<br>tail_species: tail1\",\"Value: 89.96<br>polymer_species: PO<br>polymer_density: 10<br>orientation: 0<br>concentration: 1<br>size: 200<br>tail_species: tail2\",\"Value: 95.42<br>polymer_species: PO<br>polymer_density: 10<br>orientation: 0<br>concentration: 1<br>size: 200<br>tail_species: tail3\",\"Value: 109.77<br>polymer_species: PO<br>polymer_density: 10<br>orientation: 0<br>concentration: 10<br>size: 100<br>tail_species: tail1\",\"Value: 107.61<br>polymer_species: PO<br>polymer_density: 10<br>orientation: 0<br>concentration: 10<br>size: 100<br>tail_species: tail2\",\"Value: 116.59<br>polymer_species: PO<br>polymer_density: 10<br>orientation: 0<br>concentration: 10<br>size: 100<br>tail_species: tail3\",\"Value: 106.42<br>polymer_species: PO<br>polymer_density: 10<br>orientation: 0<br>concentration: 10<br>size: 200<br>tail_species: tail1\",\"Value: 112.92<br>polymer_species: PO<br>polymer_density: 10<br>orientation: 0<br>concentration: 10<br>size: 200<br>tail_species: tail2\",\"Value: 127.39<br>polymer_species: PO<br>polymer_density: 10<br>orientation: 0<br>concentration: 10<br>size: 200<br>tail_species: tail3\",\"Value: 126.12<br>polymer_species: PO<br>polymer_density: 10<br>orientation: 0<br>concentration: 100<br>size: 100<br>tail_species: tail1\",\"Value: 121.15<br>polymer_species: PO<br>polymer_density: 10<br>orientation: 0<br>concentration: 100<br>size: 100<br>tail_species: tail2\",\"Value: 139.52<br>polymer_species: PO<br>polymer_density: 10<br>orientation: 0<br>concentration: 100<br>size: 100<br>tail_species: tail3\",\"Value: 132.01<br>polymer_species: PO<br>polymer_density: 10<br>orientation: 0<br>concentration: 100<br>size: 200<br>tail_species: tail1\",\"Value: 128.46<br>polymer_species: PO<br>polymer_density: 10<br>orientation: 0<br>concentration: 100<br>size: 200<br>tail_species: tail2\",\"Value: 140.53<br>polymer_species: PO<br>polymer_density: 10<br>orientation: 0<br>concentration: 100<br>size: 200<br>tail_species: tail3\",\"Value: 143.96<br>polymer_species: PO<br>polymer_density: 10<br>orientation: 0<br>concentration: 1000<br>size: 100<br>tail_species: tail1\",\"Value: 141.81<br>polymer_species: PO<br>polymer_density: 10<br>orientation: 0<br>concentration: 1000<br>size: 100<br>tail_species: tail2\",\"Value: 154.14<br>polymer_species: PO<br>polymer_density: 10<br>orientation: 0<br>concentration: 1000<br>size: 100<br>tail_species: tail3\",\"Value: 130.17<br>polymer_species: PO<br>polymer_density: 10<br>orientation: 0<br>concentration: 1000<br>size: 200<br>tail_species: tail1\",\"Value: 145.7<br>polymer_species: PO<br>polymer_density: 10<br>orientation: 0<br>concentration: 1000<br>size: 200<br>tail_species: tail2\",\"Value: 158.7<br>polymer_species: PO<br>polymer_density: 10<br>orientation: 0<br>concentration: 1000<br>size: 200<br>tail_species: tail3\"],[\"Value: 88.18<br>polymer_species: PO<br>polymer_density: 10<br>orientation: 1<br>concentration: 1<br>size: 100<br>tail_species: tail1\",\"Value: 85.37<br>polymer_species: PO<br>polymer_density: 10<br>orientation: 1<br>concentration: 1<br>size: 100<br>tail_species: tail2\",\"Value: 102.2<br>polymer_species: PO<br>polymer_density: 10<br>orientation: 1<br>concentration: 1<br>size: 100<br>tail_species: tail3\",\"Value: 91.11<br>polymer_species: PO<br>polymer_density: 10<br>orientation: 1<br>concentration: 1<br>size: 200<br>tail_species: tail1\",\"Value: 93.05<br>polymer_species: PO<br>polymer_density: 10<br>orientation: 1<br>concentration: 1<br>size: 200<br>tail_species: tail2\",\"Value: 101.6<br>polymer_species: PO<br>polymer_density: 10<br>orientation: 1<br>concentration: 1<br>size: 200<br>tail_species: tail3\",\"Value: 107.5<br>polymer_species: PO<br>polymer_density: 10<br>orientation: 1<br>concentration: 10<br>size: 100<br>tail_species: tail1\",\"Value: 102.35<br>polymer_species: PO<br>polymer_density: 10<br>orientation: 1<br>concentration: 10<br>size: 100<br>tail_species: tail2\",\"Value: 127.34<br>polymer_species: PO<br>polymer_density: 10<br>orientation: 1<br>concentration: 10<br>size: 100<br>tail_species: tail3\",\"Value: 112.1<br>polymer_species: PO<br>polymer_density: 10<br>orientation: 1<br>concentration: 10<br>size: 200<br>tail_species: tail1\",\"Value: 104.8<br>polymer_species: PO<br>polymer_density: 10<br>orientation: 1<br>concentration: 10<br>size: 200<br>tail_species: tail2\",\"Value: 120.71<br>polymer_species: PO<br>polymer_density: 10<br>orientation: 1<br>concentration: 10<br>size: 200<br>tail_species: tail3\",\"Value: 120.93<br>polymer_species: PO<br>polymer_density: 10<br>orientation: 1<br>concentration: 100<br>size: 100<br>tail_species: tail1\",\"Value: 126.86<br>polymer_species: PO<br>polymer_density: 10<br>orientation: 1<br>concentration: 100<br>size: 100<br>tail_species: tail2\",\"Value: 137.34<br>polymer_species: PO<br>polymer_density: 10<br>orientation: 1<br>concentration: 100<br>size: 100<br>tail_species: tail3\",\"Value: 120.1<br>polymer_species: PO<br>polymer_density: 10<br>orientation: 1<br>concentration: 100<br>size: 200<br>tail_species: tail1\",\"Value: 125.78<br>polymer_species: PO<br>polymer_density: 10<br>orientation: 1<br>concentration: 100<br>size: 200<br>tail_species: tail2\",\"Value: 134.15<br>polymer_species: PO<br>polymer_density: 10<br>orientation: 1<br>concentration: 100<br>size: 200<br>tail_species: tail3\",\"Value: 146.58<br>polymer_species: PO<br>polymer_density: 10<br>orientation: 1<br>concentration: 1000<br>size: 100<br>tail_species: tail1\",\"Value: 142.67<br>polymer_species: PO<br>polymer_density: 10<br>orientation: 1<br>concentration: 1000<br>size: 100<br>tail_species: tail2\",\"Value: 167.98<br>polymer_species: PO<br>polymer_density: 10<br>orientation: 1<br>concentration: 1000<br>size: 100<br>tail_species: tail3\",\"Value: 139.53<br>polymer_species: PO<br>polymer_density: 10<br>orientation: 1<br>concentration: 1000<br>size: 200<br>tail_species: tail1\",\"Value: 146.01<br>polymer_species: PO<br>polymer_density: 10<br>orientation: 1<br>concentration: 1000<br>size: 200<br>tail_species: tail2\",\"Value: 163.31<br>polymer_species: PO<br>polymer_density: 10<br>orientation: 1<br>concentration: 1000<br>size: 200<br>tail_species: tail3\"],[\"Value: 135.23<br>polymer_species: PS<br>polymer_density: 0<br>orientation: 0<br>concentration: 1<br>size: 100<br>tail_species: tail1\",\"Value: 131.16<br>polymer_species: PS<br>polymer_density: 0<br>orientation: 0<br>concentration: 1<br>size: 100<br>tail_species: tail2\",\"Value: 155.26<br>polymer_species: PS<br>polymer_density: 0<br>orientation: 0<br>concentration: 1<br>size: 100<br>tail_species: tail3\",\"Value: 108.74<br>polymer_species: PS<br>polymer_density: 0<br>orientation: 0<br>concentration: 1<br>size: 200<br>tail_species: tail1\",\"Value: 110.78<br>polymer_species: PS<br>polymer_density: 0<br>orientation: 0<br>concentration: 1<br>size: 200<br>tail_species: tail2\",\"Value: 132.68<br>polymer_species: PS<br>polymer_density: 0<br>orientation: 0<br>concentration: 1<br>size: 200<br>tail_species: tail3\",\"Value: 161.86<br>polymer_species: PS<br>polymer_density: 0<br>orientation: 0<br>concentration: 10<br>size: 100<br>tail_species: tail1\",\"Value: 167.51<br>polymer_species: PS<br>polymer_density: 0<br>orientation: 0<br>concentration: 10<br>size: 100<br>tail_species: tail2\",\"Value: 185.63<br>polymer_species: PS<br>polymer_density: 0<br>orientation: 0<br>concentration: 10<br>size: 100<br>tail_species: tail3\",\"Value: 134.07<br>polymer_species: PS<br>polymer_density: 0<br>orientation: 0<br>concentration: 10<br>size: 200<br>tail_species: tail1\",\"Value: 132.41<br>polymer_species: PS<br>polymer_density: 0<br>orientation: 0<br>concentration: 10<br>size: 200<br>tail_species: tail2\",\"Value: 154.27<br>polymer_species: PS<br>polymer_density: 0<br>orientation: 0<br>concentration: 10<br>size: 200<br>tail_species: tail3\",\"Value: 196.64<br>polymer_species: PS<br>polymer_density: 0<br>orientation: 0<br>concentration: 100<br>size: 100<br>tail_species: tail1\",\"Value: 200.6<br>polymer_species: PS<br>polymer_density: 0<br>orientation: 0<br>concentration: 100<br>size: 100<br>tail_species: tail2\",\"Value: 210.78<br>polymer_species: PS<br>polymer_density: 0<br>orientation: 0<br>concentration: 100<br>size: 100<br>tail_species: tail3\",\"Value: 159.04<br>polymer_species: PS<br>polymer_density: 0<br>orientation: 0<br>concentration: 100<br>size: 200<br>tail_species: tail1\",\"Value: 149.92<br>polymer_species: PS<br>polymer_density: 0<br>orientation: 0<br>concentration: 100<br>size: 200<br>tail_species: tail2\",\"Value: 173.66<br>polymer_species: PS<br>polymer_density: 0<br>orientation: 0<br>concentration: 100<br>size: 200<br>tail_species: tail3\",\"Value: 237.12<br>polymer_species: PS<br>polymer_density: 0<br>orientation: 0<br>concentration: 1000<br>size: 100<br>tail_species: tail1\",\"Value: 222.45<br>polymer_species: PS<br>polymer_density: 0<br>orientation: 0<br>concentration: 1000<br>size: 100<br>tail_species: tail2\",\"Value: 250.66<br>polymer_species: PS<br>polymer_density: 0<br>orientation: 0<br>concentration: 1000<br>size: 100<br>tail_species: tail3\",\"Value: 183.46<br>polymer_species: PS<br>polymer_density: 0<br>orientation: 0<br>concentration: 1000<br>size: 200<br>tail_species: tail1\",\"Value: 189.21<br>polymer_species: PS<br>polymer_density: 0<br>orientation: 0<br>concentration: 1000<br>size: 200<br>tail_species: tail2\",\"Value: 196.47<br>polymer_species: PS<br>polymer_density: 0<br>orientation: 0<br>concentration: 1000<br>size: 200<br>tail_species: tail3\"],[\"Value: 140.48<br>polymer_species: PS<br>polymer_density: 0<br>orientation: 1<br>concentration: 1<br>size: 100<br>tail_species: tail1\",\"Value: 135.64<br>polymer_species: PS<br>polymer_density: 0<br>orientation: 1<br>concentration: 1<br>size: 100<br>tail_species: tail2\",\"Value: 153.5<br>polymer_species: PS<br>polymer_density: 0<br>orientation: 1<br>concentration: 1<br>size: 100<br>tail_species: tail3\",\"Value: 114.73<br>polymer_species: PS<br>polymer_density: 0<br>orientation: 1<br>concentration: 1<br>size: 200<br>tail_species: tail1\",\"Value: 107.17<br>polymer_species: PS<br>polymer_density: 0<br>orientation: 1<br>concentration: 1<br>size: 200<br>tail_species: tail2\",\"Value: 115.03<br>polymer_species: PS<br>polymer_density: 0<br>orientation: 1<br>concentration: 1<br>size: 200<br>tail_species: tail3\",\"Value: 169.52<br>polymer_species: PS<br>polymer_density: 0<br>orientation: 1<br>concentration: 10<br>size: 100<br>tail_species: tail1\",\"Value: 163.83<br>polymer_species: PS<br>polymer_density: 0<br>orientation: 1<br>concentration: 10<br>size: 100<br>tail_species: tail2\",\"Value: 184.88<br>polymer_species: PS<br>polymer_density: 0<br>orientation: 1<br>concentration: 10<br>size: 100<br>tail_species: tail3\",\"Value: 135.61<br>polymer_species: PS<br>polymer_density: 0<br>orientation: 1<br>concentration: 10<br>size: 200<br>tail_species: tail1\",\"Value: 134.78<br>polymer_species: PS<br>polymer_density: 0<br>orientation: 1<br>concentration: 10<br>size: 200<br>tail_species: tail2\",\"Value: 145.67<br>polymer_species: PS<br>polymer_density: 0<br>orientation: 1<br>concentration: 10<br>size: 200<br>tail_species: tail3\",\"Value: 206.86<br>polymer_species: PS<br>polymer_density: 0<br>orientation: 1<br>concentration: 100<br>size: 100<br>tail_species: tail1\",\"Value: 201.3<br>polymer_species: PS<br>polymer_density: 0<br>orientation: 1<br>concentration: 100<br>size: 100<br>tail_species: tail2\",\"Value: 210.05<br>polymer_species: PS<br>polymer_density: 0<br>orientation: 1<br>concentration: 100<br>size: 100<br>tail_species: tail3\",\"Value: 155.57<br>polymer_species: PS<br>polymer_density: 0<br>orientation: 1<br>concentration: 100<br>size: 200<br>tail_species: tail1\",\"Value: 155.07<br>polymer_species: PS<br>polymer_density: 0<br>orientation: 1<br>concentration: 100<br>size: 200<br>tail_species: tail2\",\"Value: 166.79<br>polymer_species: PS<br>polymer_density: 0<br>orientation: 1<br>concentration: 100<br>size: 200<br>tail_species: tail3\",\"Value: 227.79<br>polymer_species: PS<br>polymer_density: 0<br>orientation: 1<br>concentration: 1000<br>size: 100<br>tail_species: tail1\",\"Value: 219.42<br>polymer_species: PS<br>polymer_density: 0<br>orientation: 1<br>concentration: 1000<br>size: 100<br>tail_species: tail2\",\"Value: 232.85<br>polymer_species: PS<br>polymer_density: 0<br>orientation: 1<br>concentration: 1000<br>size: 100<br>tail_species: tail3\",\"Value: 176.84<br>polymer_species: PS<br>polymer_density: 0<br>orientation: 1<br>concentration: 1000<br>size: 200<br>tail_species: tail1\",\"Value: 177.54<br>polymer_species: PS<br>polymer_density: 0<br>orientation: 1<br>concentration: 1000<br>size: 200<br>tail_species: tail2\",\"Value: 189.49<br>polymer_species: PS<br>polymer_density: 0<br>orientation: 1<br>concentration: 1000<br>size: 200<br>tail_species: tail3\"],[\"Value: 174.11<br>polymer_species: PS<br>polymer_density: 1<br>orientation: 0<br>concentration: 1<br>size: 100<br>tail_species: tail1\",\"Value: 165.51<br>polymer_species: PS<br>polymer_density: 1<br>orientation: 0<br>concentration: 1<br>size: 100<br>tail_species: tail2\",\"Value: 182.44<br>polymer_species: PS<br>polymer_density: 1<br>orientation: 0<br>concentration: 1<br>size: 100<br>tail_species: tail3\",\"Value: 129.18<br>polymer_species: PS<br>polymer_density: 1<br>orientation: 0<br>concentration: 1<br>size: 200<br>tail_species: tail1\",\"Value: 134.38<br>polymer_species: PS<br>polymer_density: 1<br>orientation: 0<br>concentration: 1<br>size: 200<br>tail_species: tail2\",\"Value: 154.19<br>polymer_species: PS<br>polymer_density: 1<br>orientation: 0<br>concentration: 1<br>size: 200<br>tail_species: tail3\",\"Value: 194.18<br>polymer_species: PS<br>polymer_density: 1<br>orientation: 0<br>concentration: 10<br>size: 100<br>tail_species: tail1\",\"Value: 205.81<br>polymer_species: PS<br>polymer_density: 1<br>orientation: 0<br>concentration: 10<br>size: 100<br>tail_species: tail2\",\"Value: 216.89<br>polymer_species: PS<br>polymer_density: 1<br>orientation: 0<br>concentration: 10<br>size: 100<br>tail_species: tail3\",\"Value: 150.72<br>polymer_species: PS<br>polymer_density: 1<br>orientation: 0<br>concentration: 10<br>size: 200<br>tail_species: tail1\",\"Value: 164.18<br>polymer_species: PS<br>polymer_density: 1<br>orientation: 0<br>concentration: 10<br>size: 200<br>tail_species: tail2\",\"Value: 178.5<br>polymer_species: PS<br>polymer_density: 1<br>orientation: 0<br>concentration: 10<br>size: 200<br>tail_species: tail3\",\"Value: 243.15<br>polymer_species: PS<br>polymer_density: 1<br>orientation: 0<br>concentration: 100<br>size: 100<br>tail_species: tail1\",\"Value: 227.64<br>polymer_species: PS<br>polymer_density: 1<br>orientation: 0<br>concentration: 100<br>size: 100<br>tail_species: tail2\",\"Value: 264.61<br>polymer_species: PS<br>polymer_density: 1<br>orientation: 0<br>concentration: 100<br>size: 100<br>tail_species: tail3\",\"Value: 190.83<br>polymer_species: PS<br>polymer_density: 1<br>orientation: 0<br>concentration: 100<br>size: 200<br>tail_species: tail1\",\"Value: 181.74<br>polymer_species: PS<br>polymer_density: 1<br>orientation: 0<br>concentration: 100<br>size: 200<br>tail_species: tail2\",\"Value: 203.89<br>polymer_species: PS<br>polymer_density: 1<br>orientation: 0<br>concentration: 100<br>size: 200<br>tail_species: tail3\",\"Value: 260.28<br>polymer_species: PS<br>polymer_density: 1<br>orientation: 0<br>concentration: 1000<br>size: 100<br>tail_species: tail1\",\"Value: 271.98<br>polymer_species: PS<br>polymer_density: 1<br>orientation: 0<br>concentration: 1000<br>size: 100<br>tail_species: tail2\",\"Value: 305.85<br>polymer_species: PS<br>polymer_density: 1<br>orientation: 0<br>concentration: 1000<br>size: 100<br>tail_species: tail3\",\"Value: 215.98<br>polymer_species: PS<br>polymer_density: 1<br>orientation: 0<br>concentration: 1000<br>size: 200<br>tail_species: tail1\",\"Value: 221.08<br>polymer_species: PS<br>polymer_density: 1<br>orientation: 0<br>concentration: 1000<br>size: 200<br>tail_species: tail2\",\"Value: 228.14<br>polymer_species: PS<br>polymer_density: 1<br>orientation: 0<br>concentration: 1000<br>size: 200<br>tail_species: tail3\"],[\"Value: 160.55<br>polymer_species: PS<br>polymer_density: 1<br>orientation: 1<br>concentration: 1<br>size: 100<br>tail_species: tail1\",\"Value: 166.13<br>polymer_species: PS<br>polymer_density: 1<br>orientation: 1<br>concentration: 1<br>size: 100<br>tail_species: tail2\",\"Value: 193.91<br>polymer_species: PS<br>polymer_density: 1<br>orientation: 1<br>concentration: 1<br>size: 100<br>tail_species: tail3\",\"Value: 134.93<br>polymer_species: PS<br>polymer_density: 1<br>orientation: 1<br>concentration: 1<br>size: 200<br>tail_species: tail1\",\"Value: 128.7<br>polymer_species: PS<br>polymer_density: 1<br>orientation: 1<br>concentration: 1<br>size: 200<br>tail_species: tail2\",\"Value: 152.16<br>polymer_species: PS<br>polymer_density: 1<br>orientation: 1<br>concentration: 1<br>size: 200<br>tail_species: tail3\",\"Value: 188.42<br>polymer_species: PS<br>polymer_density: 1<br>orientation: 1<br>concentration: 10<br>size: 100<br>tail_species: tail1\",\"Value: 199.51<br>polymer_species: PS<br>polymer_density: 1<br>orientation: 1<br>concentration: 10<br>size: 100<br>tail_species: tail2\",\"Value: 244.1<br>polymer_species: PS<br>polymer_density: 1<br>orientation: 1<br>concentration: 10<br>size: 100<br>tail_species: tail3\",\"Value: 157.1<br>polymer_species: PS<br>polymer_density: 1<br>orientation: 1<br>concentration: 10<br>size: 200<br>tail_species: tail1\",\"Value: 167.39<br>polymer_species: PS<br>polymer_density: 1<br>orientation: 1<br>concentration: 10<br>size: 200<br>tail_species: tail2\",\"Value: 179.37<br>polymer_species: PS<br>polymer_density: 1<br>orientation: 1<br>concentration: 10<br>size: 200<br>tail_species: tail3\",\"Value: 225.82<br>polymer_species: PS<br>polymer_density: 1<br>orientation: 1<br>concentration: 100<br>size: 100<br>tail_species: tail1\",\"Value: 243.46<br>polymer_species: PS<br>polymer_density: 1<br>orientation: 1<br>concentration: 100<br>size: 100<br>tail_species: tail2\",\"Value: 261.1<br>polymer_species: PS<br>polymer_density: 1<br>orientation: 1<br>concentration: 100<br>size: 100<br>tail_species: tail3\",\"Value: 189.75<br>polymer_species: PS<br>polymer_density: 1<br>orientation: 1<br>concentration: 100<br>size: 200<br>tail_species: tail1\",\"Value: 181.7<br>polymer_species: PS<br>polymer_density: 1<br>orientation: 1<br>concentration: 100<br>size: 200<br>tail_species: tail2\",\"Value: 208.56<br>polymer_species: PS<br>polymer_density: 1<br>orientation: 1<br>concentration: 100<br>size: 200<br>tail_species: tail3\",\"Value: 276.6<br>polymer_species: PS<br>polymer_density: 1<br>orientation: 1<br>concentration: 1000<br>size: 100<br>tail_species: tail1\",\"Value: 271.85<br>polymer_species: PS<br>polymer_density: 1<br>orientation: 1<br>concentration: 1000<br>size: 100<br>tail_species: tail2\",\"Value: 311.4<br>polymer_species: PS<br>polymer_density: 1<br>orientation: 1<br>concentration: 1000<br>size: 100<br>tail_species: tail3\",\"Value: 218.29<br>polymer_species: PS<br>polymer_density: 1<br>orientation: 1<br>concentration: 1000<br>size: 200<br>tail_species: tail1\",\"Value: 210.85<br>polymer_species: PS<br>polymer_density: 1<br>orientation: 1<br>concentration: 1000<br>size: 200<br>tail_species: tail2\",\"Value: 242.13<br>polymer_species: PS<br>polymer_density: 1<br>orientation: 1<br>concentration: 1000<br>size: 200<br>tail_species: tail3\"],[\"Value: 125.35<br>polymer_species: PS<br>polymer_density: 10<br>orientation: 0<br>concentration: 1<br>size: 100<br>tail_species: tail1\",\"Value: 130.05<br>polymer_species: PS<br>polymer_density: 10<br>orientation: 0<br>concentration: 1<br>size: 100<br>tail_species: tail2\",\"Value: 140.96<br>polymer_species: PS<br>polymer_density: 10<br>orientation: 0<br>concentration: 1<br>size: 100<br>tail_species: tail3\",\"Value: 102.05<br>polymer_species: PS<br>polymer_density: 10<br>orientation: 0<br>concentration: 1<br>size: 200<br>tail_species: tail1\",\"Value: 98.01<br>polymer_species: PS<br>polymer_density: 10<br>orientation: 0<br>concentration: 1<br>size: 200<br>tail_species: tail2\",\"Value: 115.34<br>polymer_species: PS<br>polymer_density: 10<br>orientation: 0<br>concentration: 1<br>size: 200<br>tail_species: tail3\",\"Value: 154.69<br>polymer_species: PS<br>polymer_density: 10<br>orientation: 0<br>concentration: 10<br>size: 100<br>tail_species: tail1\",\"Value: 152.75<br>polymer_species: PS<br>polymer_density: 10<br>orientation: 0<br>concentration: 10<br>size: 100<br>tail_species: tail2\",\"Value: 169.75<br>polymer_species: PS<br>polymer_density: 10<br>orientation: 0<br>concentration: 10<br>size: 100<br>tail_species: tail3\",\"Value: 122.34<br>polymer_species: PS<br>polymer_density: 10<br>orientation: 0<br>concentration: 10<br>size: 200<br>tail_species: tail1\",\"Value: 121.96<br>polymer_species: PS<br>polymer_density: 10<br>orientation: 0<br>concentration: 10<br>size: 200<br>tail_species: tail2\",\"Value: 132.05<br>polymer_species: PS<br>polymer_density: 10<br>orientation: 0<br>concentration: 10<br>size: 200<br>tail_species: tail3\",\"Value: 171.23<br>polymer_species: PS<br>polymer_density: 10<br>orientation: 0<br>concentration: 100<br>size: 100<br>tail_species: tail1\",\"Value: 178.73<br>polymer_species: PS<br>polymer_density: 10<br>orientation: 0<br>concentration: 100<br>size: 100<br>tail_species: tail2\",\"Value: 204.11<br>polymer_species: PS<br>polymer_density: 10<br>orientation: 0<br>concentration: 100<br>size: 100<br>tail_species: tail3\",\"Value: 140.09<br>polymer_species: PS<br>polymer_density: 10<br>orientation: 0<br>concentration: 100<br>size: 200<br>tail_species: tail1\",\"Value: 137.35<br>polymer_species: PS<br>polymer_density: 10<br>orientation: 0<br>concentration: 100<br>size: 200<br>tail_species: tail2\",\"Value: 156.66<br>polymer_species: PS<br>polymer_density: 10<br>orientation: 0<br>concentration: 100<br>size: 200<br>tail_species: tail3\",\"Value: 204.83<br>polymer_species: PS<br>polymer_density: 10<br>orientation: 0<br>concentration: 1000<br>size: 100<br>tail_species: tail1\",\"Value: 189.9<br>polymer_species: PS<br>polymer_density: 10<br>orientation: 0<br>concentration: 1000<br>size: 100<br>tail_species: tail2\",\"Value: 231.66<br>polymer_species: PS<br>polymer_density: 10<br>orientation: 0<br>concentration: 1000<br>size: 100<br>tail_species: tail3\",\"Value: 170.49<br>polymer_species: PS<br>polymer_density: 10<br>orientation: 0<br>concentration: 1000<br>size: 200<br>tail_species: tail1\",\"Value: 167.36<br>polymer_species: PS<br>polymer_density: 10<br>orientation: 0<br>concentration: 1000<br>size: 200<br>tail_species: tail2\",\"Value: 174.44<br>polymer_species: PS<br>polymer_density: 10<br>orientation: 0<br>concentration: 1000<br>size: 200<br>tail_species: tail3\"],[\"Value: 127.98<br>polymer_species: PS<br>polymer_density: 10<br>orientation: 1<br>concentration: 1<br>size: 100<br>tail_species: tail1\",\"Value: 121.62<br>polymer_species: PS<br>polymer_density: 10<br>orientation: 1<br>concentration: 1<br>size: 100<br>tail_species: tail2\",\"Value: 132.49<br>polymer_species: PS<br>polymer_density: 10<br>orientation: 1<br>concentration: 1<br>size: 100<br>tail_species: tail3\",\"Value: 98.3<br>polymer_species: PS<br>polymer_density: 10<br>orientation: 1<br>concentration: 1<br>size: 200<br>tail_species: tail1\",\"Value: 105.66<br>polymer_species: PS<br>polymer_density: 10<br>orientation: 1<br>concentration: 1<br>size: 200<br>tail_species: tail2\",\"Value: 104.2<br>polymer_species: PS<br>polymer_density: 10<br>orientation: 1<br>concentration: 1<br>size: 200<br>tail_species: tail3\",\"Value: 144.99<br>polymer_species: PS<br>polymer_density: 10<br>orientation: 1<br>concentration: 10<br>size: 100<br>tail_species: tail1\",\"Value: 157.16<br>polymer_species: PS<br>polymer_density: 10<br>orientation: 1<br>concentration: 10<br>size: 100<br>tail_species: tail2\",\"Value: 164.74<br>polymer_species: PS<br>polymer_density: 10<br>orientation: 1<br>concentration: 10<br>size: 100<br>tail_species: tail3\",\"Value: 122.44<br>polymer_species: PS<br>polymer_density: 10<br>orientation: 1<br>concentration: 10<br>size: 200<br>tail_species: tail1\",\"Value: 125.64<br>polymer_species: PS<br>polymer_density: 10<br>orientation: 1<br>concentration: 10<br>size: 200<br>tail_species: tail2\",\"Value: 132.92<br>polymer_species: PS<br>polymer_density: 10<br>orientation: 1<br>concentration: 10<br>size: 200<br>tail_species: tail3\",\"Value: 185.3<br>polymer_species: PS<br>polymer_density: 10<br>orientation: 1<br>concentration: 100<br>size: 100<br>tail_species: tail1\",\"Value: 179.15<br>polymer_species: PS<br>polymer_density: 10<br>orientation: 1<br>concentration: 100<br>size: 100<br>tail_species: tail2\",\"Value: 193.87<br>polymer_species: PS<br>polymer_density: 10<br>orientation: 1<br>concentration: 100<br>size: 100<br>tail_species: tail3\",\"Value: 147.57<br>polymer_species: PS<br>polymer_density: 10<br>orientation: 1<br>concentration: 100<br>size: 200<br>tail_species: tail1\",\"Value: 144.77<br>polymer_species: PS<br>polymer_density: 10<br>orientation: 1<br>concentration: 100<br>size: 200<br>tail_species: tail2\",\"Value: 155.28<br>polymer_species: PS<br>polymer_density: 10<br>orientation: 1<br>concentration: 100<br>size: 200<br>tail_species: tail3\",\"Value: 195.2<br>polymer_species: PS<br>polymer_density: 10<br>orientation: 1<br>concentration: 1000<br>size: 100<br>tail_species: tail1\",\"Value: 204.59<br>polymer_species: PS<br>polymer_density: 10<br>orientation: 1<br>concentration: 1000<br>size: 100<br>tail_species: tail2\",\"Value: 217.3<br>polymer_species: PS<br>polymer_density: 10<br>orientation: 1<br>concentration: 1000<br>size: 100<br>tail_species: tail3\",\"Value: 163.28<br>polymer_species: PS<br>polymer_density: 10<br>orientation: 1<br>concentration: 1000<br>size: 200<br>tail_species: tail1\",\"Value: 164.59<br>polymer_species: PS<br>polymer_density: 10<br>orientation: 1<br>concentration: 1000<br>size: 200<br>tail_species: tail2\",\"Value: 185.47<br>polymer_species: PS<br>polymer_density: 10<br>orientation: 1<br>concentration: 1000<br>size: 200<br>tail_species: tail3\"]],\"name\":\"\",\"z\":[[101.41,100.36,112.38,101.07,100.83,112.96,118.52,115.39,135.8,115.55,120.31,132.53,129.57,146.19,164.88,141.61,139.94,150.79,163.17,154.11,167.27,160.24,156.41,161.98],[100.83,101.21,105.56,96.49,99.77,113.38,120.64,116.56,134.73,112.03,116.23,132.33,135.95,132.79,148.47,130.38,136.21,157.7,162.9,166.6,163.0,160.37,154.53,172.6],[99.15,96.87,107.67,97.98,98.58,112.66,119.72,117.38,127.6,123.23,121.56,131.91,138.82,139.73,156.7,146.61,138.81,161.45,161.82,160.19,183.86,157.5,158.52,182.44],[96.74,101.73,112.79,99.32,96.44,111.88,121.45,125.27,135.94,123.83,119.91,131.78,136.45,143.73,149.07,135.23,140.29,157.61,170.18,155.54,167.8,163.02,163.17,178.22],[85.93,87.67,95.91,85.2,89.96,95.42,109.77,107.61,116.59,106.42,112.92,127.39,126.12,121.15,139.52,132.01,128.46,140.53,143.96,141.81,154.14,130.17,145.7,158.7],[88.18,85.37,102.2,91.11,93.05,101.6,107.5,102.35,127.34,112.1,104.8,120.71,120.93,126.86,137.34,120.1,125.78,134.15,146.58,142.67,167.98,139.53,146.01,163.31],[135.23,131.16,155.26,108.74,110.78,132.68,161.86,167.51,185.63,134.07,132.41,154.27,196.64,200.6,210.78,159.04,149.92,173.66,237.12,222.45,250.66,183.46,189.21,196.47],[140.48,135.64,153.5,114.73,107.17,115.03,169.52,163.83,184.88,135.61,134.78,145.67,206.86,201.3,210.05,155.57,155.07,166.79,227.79,219.42,232.85,176.84,177.54,189.49],[174.11,165.51,182.44,129.18,134.38,154.19,194.18,205.81,216.89,150.72,164.18,178.5,243.15,227.64,264.61,190.83,181.74,203.89,260.28,271.98,305.85,215.98,221.08,228.14],[160.55,166.13,193.91,134.93,128.7,152.16,188.42,199.51,244.1,157.1,167.39,179.37,225.82,243.46,261.1,189.75,181.7,208.56,276.6,271.85,311.4,218.29,210.85,242.13],[125.35,130.05,140.96,102.05,98.01,115.34,154.69,152.75,169.75,122.34,121.96,132.05,171.23,178.73,204.11,140.09,137.35,156.66,204.83,189.9,231.66,170.49,167.36,174.44],[127.98,121.62,132.49,98.3,105.66,104.2,144.99,157.16,164.74,122.44,125.64,132.92,185.3,179.15,193.87,147.57,144.77,155.28,195.2,204.59,217.3,163.28,164.59,185.47]],\"type\":\"heatmap\"}],                        {\"template\":{\"data\":{\"histogram2dcontour\":[{\"type\":\"histogram2dcontour\",\"colorbar\":{\"outlinewidth\":0,\"ticks\":\"\"},\"colorscale\":[[0.0,\"#0d0887\"],[0.1111111111111111,\"#46039f\"],[0.2222222222222222,\"#7201a8\"],[0.3333333333333333,\"#9c179e\"],[0.4444444444444444,\"#bd3786\"],[0.5555555555555556,\"#d8576b\"],[0.6666666666666666,\"#ed7953\"],[0.7777777777777778,\"#fb9f3a\"],[0.8888888888888888,\"#fdca26\"],[1.0,\"#f0f921\"]]}],\"choropleth\":[{\"type\":\"choropleth\",\"colorbar\":{\"outlinewidth\":0,\"ticks\":\"\"}}],\"histogram2d\":[{\"type\":\"histogram2d\",\"colorbar\":{\"outlinewidth\":0,\"ticks\":\"\"},\"colorscale\":[[0.0,\"#0d0887\"],[0.1111111111111111,\"#46039f\"],[0.2222222222222222,\"#7201a8\"],[0.3333333333333333,\"#9c179e\"],[0.4444444444444444,\"#bd3786\"],[0.5555555555555556,\"#d8576b\"],[0.6666666666666666,\"#ed7953\"],[0.7777777777777778,\"#fb9f3a\"],[0.8888888888888888,\"#fdca26\"],[1.0,\"#f0f921\"]]}],\"heatmap\":[{\"type\":\"heatmap\",\"colorbar\":{\"outlinewidth\":0,\"ticks\":\"\"},\"colorscale\":[[0.0,\"#0d0887\"],[0.1111111111111111,\"#46039f\"],[0.2222222222222222,\"#7201a8\"],[0.3333333333333333,\"#9c179e\"],[0.4444444444444444,\"#bd3786\"],[0.5555555555555556,\"#d8576b\"],[0.6666666666666666,\"#ed7953\"],[0.7777777777777778,\"#fb9f3a\"],[0.8888888888888888,\"#fdca26\"],[1.0,\"#f0f921\"]]}],\"heatmapgl\":[{\"type\":\"heatmapgl\",\"colorbar\":{\"outlinewidth\":0,\"ticks\":\"\"},\"colorscale\":[[0.0,\"#0d0887\"],[0.1111111111111111,\"#46039f\"],[0.2222222222222222,\"#7201a8\"],[0.3333333333333333,\"#9c179e\"],[0.4444444444444444,\"#bd3786\"],[0.5555555555555556,\"#d8576b\"],[0.6666666666666666,\"#ed7953\"],[0.7777777777777778,\"#fb9f3a\"],[0.8888888888888888,\"#fdca26\"],[1.0,\"#f0f921\"]]}],\"contourcarpet\":[{\"type\":\"contourcarpet\",\"colorbar\":{\"outlinewidth\":0,\"ticks\":\"\"}}],\"contour\":[{\"type\":\"contour\",\"colorbar\":{\"outlinewidth\":0,\"ticks\":\"\"},\"colorscale\":[[0.0,\"#0d0887\"],[0.1111111111111111,\"#46039f\"],[0.2222222222222222,\"#7201a8\"],[0.3333333333333333,\"#9c179e\"],[0.4444444444444444,\"#bd3786\"],[0.5555555555555556,\"#d8576b\"],[0.6666666666666666,\"#ed7953\"],[0.7777777777777778,\"#fb9f3a\"],[0.8888888888888888,\"#fdca26\"],[1.0,\"#f0f921\"]]}],\"surface\":[{\"type\":\"surface\",\"colorbar\":{\"outlinewidth\":0,\"ticks\":\"\"},\"colorscale\":[[0.0,\"#0d0887\"],[0.1111111111111111,\"#46039f\"],[0.2222222222222222,\"#7201a8\"],[0.3333333333333333,\"#9c179e\"],[0.4444444444444444,\"#bd3786\"],[0.5555555555555556,\"#d8576b\"],[0.6666666666666666,\"#ed7953\"],[0.7777777777777778,\"#fb9f3a\"],[0.8888888888888888,\"#fdca26\"],[1.0,\"#f0f921\"]]}],\"mesh3d\":[{\"type\":\"mesh3d\",\"colorbar\":{\"outlinewidth\":0,\"ticks\":\"\"}}],\"scatter\":[{\"fillpattern\":{\"fillmode\":\"overlay\",\"size\":10,\"solidity\":0.2},\"type\":\"scatter\"}],\"parcoords\":[{\"type\":\"parcoords\",\"line\":{\"colorbar\":{\"outlinewidth\":0,\"ticks\":\"\"}}}],\"scatterpolargl\":[{\"type\":\"scatterpolargl\",\"marker\":{\"colorbar\":{\"outlinewidth\":0,\"ticks\":\"\"}}}],\"bar\":[{\"error_x\":{\"color\":\"#2a3f5f\"},\"error_y\":{\"color\":\"#2a3f5f\"},\"marker\":{\"line\":{\"color\":\"#E5ECF6\",\"width\":0.5},\"pattern\":{\"fillmode\":\"overlay\",\"size\":10,\"solidity\":0.2}},\"type\":\"bar\"}],\"scattergeo\":[{\"type\":\"scattergeo\",\"marker\":{\"colorbar\":{\"outlinewidth\":0,\"ticks\":\"\"}}}],\"scatterpolar\":[{\"type\":\"scatterpolar\",\"marker\":{\"colorbar\":{\"outlinewidth\":0,\"ticks\":\"\"}}}],\"histogram\":[{\"marker\":{\"pattern\":{\"fillmode\":\"overlay\",\"size\":10,\"solidity\":0.2}},\"type\":\"histogram\"}],\"scattergl\":[{\"type\":\"scattergl\",\"marker\":{\"colorbar\":{\"outlinewidth\":0,\"ticks\":\"\"}}}],\"scatter3d\":[{\"type\":\"scatter3d\",\"line\":{\"colorbar\":{\"outlinewidth\":0,\"ticks\":\"\"}},\"marker\":{\"colorbar\":{\"outlinewidth\":0,\"ticks\":\"\"}}}],\"scattermapbox\":[{\"type\":\"scattermapbox\",\"marker\":{\"colorbar\":{\"outlinewidth\":0,\"ticks\":\"\"}}}],\"scatterternary\":[{\"type\":\"scatterternary\",\"marker\":{\"colorbar\":{\"outlinewidth\":0,\"ticks\":\"\"}}}],\"scattercarpet\":[{\"type\":\"scattercarpet\",\"marker\":{\"colorbar\":{\"outlinewidth\":0,\"ticks\":\"\"}}}],\"carpet\":[{\"aaxis\":{\"endlinecolor\":\"#2a3f5f\",\"gridcolor\":\"white\",\"linecolor\":\"white\",\"minorgridcolor\":\"white\",\"startlinecolor\":\"#2a3f5f\"},\"baxis\":{\"endlinecolor\":\"#2a3f5f\",\"gridcolor\":\"white\",\"linecolor\":\"white\",\"minorgridcolor\":\"white\",\"startlinecolor\":\"#2a3f5f\"},\"type\":\"carpet\"}],\"table\":[{\"cells\":{\"fill\":{\"color\":\"#EBF0F8\"},\"line\":{\"color\":\"white\"}},\"header\":{\"fill\":{\"color\":\"#C8D4E3\"},\"line\":{\"color\":\"white\"}},\"type\":\"table\"}],\"barpolar\":[{\"marker\":{\"line\":{\"color\":\"#E5ECF6\",\"width\":0.5},\"pattern\":{\"fillmode\":\"overlay\",\"size\":10,\"solidity\":0.2}},\"type\":\"barpolar\"}],\"pie\":[{\"automargin\":true,\"type\":\"pie\"}]},\"layout\":{\"autotypenumbers\":\"strict\",\"colorway\":[\"#636efa\",\"#EF553B\",\"#00cc96\",\"#ab63fa\",\"#FFA15A\",\"#19d3f3\",\"#FF6692\",\"#B6E880\",\"#FF97FF\",\"#FECB52\"],\"font\":{\"color\":\"#2a3f5f\"},\"hovermode\":\"closest\",\"hoverlabel\":{\"align\":\"left\"},\"paper_bgcolor\":\"white\",\"plot_bgcolor\":\"#E5ECF6\",\"polar\":{\"bgcolor\":\"#E5ECF6\",\"angularaxis\":{\"gridcolor\":\"white\",\"linecolor\":\"white\",\"ticks\":\"\"},\"radialaxis\":{\"gridcolor\":\"white\",\"linecolor\":\"white\",\"ticks\":\"\"}},\"ternary\":{\"bgcolor\":\"#E5ECF6\",\"aaxis\":{\"gridcolor\":\"white\",\"linecolor\":\"white\",\"ticks\":\"\"},\"baxis\":{\"gridcolor\":\"white\",\"linecolor\":\"white\",\"ticks\":\"\"},\"caxis\":{\"gridcolor\":\"white\",\"linecolor\":\"white\",\"ticks\":\"\"}},\"coloraxis\":{\"colorbar\":{\"outlinewidth\":0,\"ticks\":\"\"}},\"colorscale\":{\"sequential\":[[0.0,\"#0d0887\"],[0.1111111111111111,\"#46039f\"],[0.2222222222222222,\"#7201a8\"],[0.3333333333333333,\"#9c179e\"],[0.4444444444444444,\"#bd3786\"],[0.5555555555555556,\"#d8576b\"],[0.6666666666666666,\"#ed7953\"],[0.7777777777777778,\"#fb9f3a\"],[0.8888888888888888,\"#fdca26\"],[1.0,\"#f0f921\"]],\"sequentialminus\":[[0.0,\"#0d0887\"],[0.1111111111111111,\"#46039f\"],[0.2222222222222222,\"#7201a8\"],[0.3333333333333333,\"#9c179e\"],[0.4444444444444444,\"#bd3786\"],[0.5555555555555556,\"#d8576b\"],[0.6666666666666666,\"#ed7953\"],[0.7777777777777778,\"#fb9f3a\"],[0.8888888888888888,\"#fdca26\"],[1.0,\"#f0f921\"]],\"diverging\":[[0,\"#8e0152\"],[0.1,\"#c51b7d\"],[0.2,\"#de77ae\"],[0.3,\"#f1b6da\"],[0.4,\"#fde0ef\"],[0.5,\"#f7f7f7\"],[0.6,\"#e6f5d0\"],[0.7,\"#b8e186\"],[0.8,\"#7fbc41\"],[0.9,\"#4d9221\"],[1,\"#276419\"]]},\"xaxis\":{\"gridcolor\":\"white\",\"linecolor\":\"white\",\"ticks\":\"\",\"title\":{\"standoff\":15},\"zerolinecolor\":\"white\",\"automargin\":true,\"zerolinewidth\":2},\"yaxis\":{\"gridcolor\":\"white\",\"linecolor\":\"white\",\"ticks\":\"\",\"title\":{\"standoff\":15},\"zerolinecolor\":\"white\",\"automargin\":true,\"zerolinewidth\":2},\"scene\":{\"xaxis\":{\"backgroundcolor\":\"#E5ECF6\",\"gridcolor\":\"white\",\"linecolor\":\"white\",\"showbackground\":true,\"ticks\":\"\",\"zerolinecolor\":\"white\",\"gridwidth\":2},\"yaxis\":{\"backgroundcolor\":\"#E5ECF6\",\"gridcolor\":\"white\",\"linecolor\":\"white\",\"showbackground\":true,\"ticks\":\"\",\"zerolinecolor\":\"white\",\"gridwidth\":2},\"zaxis\":{\"backgroundcolor\":\"#E5ECF6\",\"gridcolor\":\"white\",\"linecolor\":\"white\",\"showbackground\":true,\"ticks\":\"\",\"zerolinecolor\":\"white\",\"gridwidth\":2}},\"shapedefaults\":{\"line\":{\"color\":\"#2a3f5f\"}},\"annotationdefaults\":{\"arrowcolor\":\"#2a3f5f\",\"arrowhead\":0,\"arrowwidth\":1},\"geo\":{\"bgcolor\":\"white\",\"landcolor\":\"#E5ECF6\",\"subunitcolor\":\"white\",\"showland\":true,\"showlakes\":true,\"lakecolor\":\"white\"},\"title\":{\"x\":0.05},\"mapbox\":{\"style\":\"light\"}}},\"yaxis\":{\"visible\":false},\"xaxis\":{\"visible\":false},\"margin\":{\"l\":150,\"r\":20,\"t\":100,\"b\":150},\"height\":560,\"width\":820,\"annotations\":[{\"align\":\"right\",\"font\":{\"size\":14},\"showarrow\":false,\"text\":\"orientation\",\"textangle\":-90,\"valign\":\"bottom\",\"x\":-0.0,\"xanchor\":\"right\",\"xref\":\"paper\",\"y\":0,\"yanchor\":\"top\",\"yref\":\"paper\"},{\"align\":\"right\",\"font\":{\"size\":14},\"showarrow\":false,\"text\":\"polymer_density\",\"textangle\":-90,\"valign\":\"bottom\",\"x\":-0.05,\"xanchor\":\"right\",\"xref\":\"paper\",\"y\":0,\"yanchor\":\"top\",\"yref\":\"paper\"},{\"align\":\"right\",\"font\":{\"size\":14},\"showarrow\":false,\"text\":\"polymer_species\",\"textangle\":-90,\"valign\":\"bottom\",\"x\":-0.1,\"xanchor\":\"right\",\"xref\":\"paper\",\"y\":0,\"yanchor\":\"top\",\"yref\":\"paper\"},{\"align\":\"center\",\"font\":{\"size\":10},\"showarrow\":false,\"text\":\"0\",\"textangle\":-90,\"valign\":\"bottom\",\"x\":0.0,\"xanchor\":\"right\",\"xref\":\"paper\",\"y\":0.0,\"yanchor\":\"bottom\"},{\"align\":\"center\",\"font\":{\"size\":10},\"showarrow\":false,\"text\":\"0\",\"textangle\":-90,\"valign\":\"bottom\",\"x\":0.0,\"xanchor\":\"right\",\"xref\":\"paper\",\"y\":6.0,\"yanchor\":\"bottom\"},{\"align\":\"center\",\"font\":{\"size\":10},\"showarrow\":false,\"text\":\"0\",\"textangle\":-90,\"valign\":\"bottom\",\"x\":0.0,\"xanchor\":\"right\",\"xref\":\"paper\",\"y\":2.0,\"yanchor\":\"bottom\"},{\"align\":\"center\",\"font\":{\"size\":10},\"showarrow\":false,\"text\":\"0\",\"textangle\":-90,\"valign\":\"bottom\",\"x\":0.0,\"xanchor\":\"right\",\"xref\":\"paper\",\"y\":8.0,\"yanchor\":\"bottom\"},{\"align\":\"center\",\"font\":{\"size\":10},\"showarrow\":false,\"text\":\"0\",\"textangle\":-90,\"valign\":\"bottom\",\"x\":0.0,\"xanchor\":\"right\",\"xref\":\"paper\",\"y\":4.0,\"yanchor\":\"bottom\"},{\"align\":\"center\",\"font\":{\"size\":10},\"showarrow\":false,\"text\":\"0\",\"textangle\":-90,\"valign\":\"bottom\",\"x\":0.0,\"xanchor\":\"right\",\"xref\":\"paper\",\"y\":10.0,\"yanchor\":\"bottom\"},{\"align\":\"center\",\"font\":{\"size\":10},\"showarrow\":false,\"text\":\"1\",\"textangle\":-90,\"valign\":\"bottom\",\"x\":0.0,\"xanchor\":\"right\",\"xref\":\"paper\",\"y\":1.0,\"yanchor\":\"bottom\"},{\"align\":\"center\",\"font\":{\"size\":10},\"showarrow\":false,\"text\":\"1\",\"textangle\":-90,\"valign\":\"bottom\",\"x\":0.0,\"xanchor\":\"right\",\"xref\":\"paper\",\"y\":7.0,\"yanchor\":\"bottom\"},{\"align\":\"center\",\"font\":{\"size\":10},\"showarrow\":false,\"text\":\"1\",\"textangle\":-90,\"valign\":\"bottom\",\"x\":0.0,\"xanchor\":\"right\",\"xref\":\"paper\",\"y\":3.0,\"yanchor\":\"bottom\"},{\"align\":\"center\",\"font\":{\"size\":10},\"showarrow\":false,\"text\":\"1\",\"textangle\":-90,\"valign\":\"bottom\",\"x\":0.0,\"xanchor\":\"right\",\"xref\":\"paper\",\"y\":9.0,\"yanchor\":\"bottom\"},{\"align\":\"center\",\"font\":{\"size\":10},\"showarrow\":false,\"text\":\"1\",\"textangle\":-90,\"valign\":\"bottom\",\"x\":0.0,\"xanchor\":\"right\",\"xref\":\"paper\",\"y\":5.0,\"yanchor\":\"bottom\"},{\"align\":\"center\",\"font\":{\"size\":10},\"showarrow\":false,\"text\":\"1\",\"textangle\":-90,\"valign\":\"bottom\",\"x\":0.0,\"xanchor\":\"right\",\"xref\":\"paper\",\"y\":11.0,\"yanchor\":\"bottom\"},{\"align\":\"center\",\"font\":{\"size\":10},\"showarrow\":false,\"text\":\"0\",\"textangle\":-90,\"valign\":\"bottom\",\"x\":-0.05,\"xanchor\":\"right\",\"xref\":\"paper\",\"y\":0.5,\"yanchor\":\"bottom\"},{\"align\":\"center\",\"font\":{\"size\":10},\"showarrow\":false,\"text\":\"0\",\"textangle\":-90,\"valign\":\"bottom\",\"x\":-0.05,\"xanchor\":\"right\",\"xref\":\"paper\",\"y\":6.5,\"yanchor\":\"bottom\"},{\"align\":\"center\",\"font\":{\"size\":10},\"showarrow\":false,\"text\":\"1\",\"textangle\":-90,\"valign\":\"bottom\",\"x\":-0.05,\"xanchor\":\"right\",\"xref\":\"paper\",\"y\":2.5,\"yanchor\":\"bottom\"},{\"align\":\"center\",\"font\":{\"size\":10},\"showarrow\":false,\"text\":\"1\",\"textangle\":-90,\"valign\":\"bottom\",\"x\":-0.05,\"xanchor\":\"right\",\"xref\":\"paper\",\"y\":8.5,\"yanchor\":\"bottom\"},{\"align\":\"center\",\"font\":{\"size\":10},\"showarrow\":false,\"text\":\"10\",\"textangle\":-90,\"valign\":\"bottom\",\"x\":-0.05,\"xanchor\":\"right\",\"xref\":\"paper\",\"y\":4.5,\"yanchor\":\"bottom\"},{\"align\":\"center\",\"font\":{\"size\":10},\"showarrow\":false,\"text\":\"10\",\"textangle\":-90,\"valign\":\"bottom\",\"x\":-0.05,\"xanchor\":\"right\",\"xref\":\"paper\",\"y\":10.5,\"yanchor\":\"bottom\"},{\"align\":\"center\",\"font\":{\"size\":10},\"showarrow\":false,\"text\":\"PO\",\"textangle\":-90,\"valign\":\"bottom\",\"x\":-0.1,\"xanchor\":\"right\",\"xref\":\"paper\",\"y\":2.5,\"yanchor\":\"bottom\"},{\"align\":\"center\",\"font\":{\"size\":10},\"showarrow\":false,\"text\":\"PS\",\"textangle\":-90,\"valign\":\"bottom\",\"x\":-0.1,\"xanchor\":\"right\",\"xref\":\"paper\",\"y\":8.5,\"yanchor\":\"bottom\"},{\"align\":\"right\",\"font\":{\"size\":14},\"showarrow\":false,\"text\":\"tail_species\",\"valign\":\"bottom\",\"x\":0,\"xanchor\":\"right\",\"xref\":\"paper\",\"y\":1.0,\"yanchor\":\"bottom\",\"yref\":\"paper\"},{\"align\":\"right\",\"font\":{\"size\":14},\"showarrow\":false,\"text\":\"size\",\"valign\":\"bottom\",\"x\":0,\"xanchor\":\"right\",\"xref\":\"paper\",\"y\":1.0833333333333333,\"yanchor\":\"bottom\",\"yref\":\"paper\"},{\"align\":\"right\",\"font\":{\"size\":14},\"showarrow\":false,\"text\":\"concentration\",\"valign\":\"bottom\",\"x\":0,\"xanchor\":\"right\",\"xref\":\"paper\",\"y\":1.1666666666666667,\"yanchor\":\"bottom\",\"yref\":\"paper\"},{\"align\":\"center\",\"font\":{\"size\":9},\"showarrow\":false,\"text\":\"tail1\",\"valign\":\"bottom\",\"x\":0.0,\"xanchor\":\"center\",\"y\":1.0,\"yanchor\":\"bottom\",\"yref\":\"paper\"},{\"align\":\"center\",\"font\":{\"size\":9},\"showarrow\":false,\"text\":\"tail1\",\"valign\":\"bottom\",\"x\":6.0,\"xanchor\":\"center\",\"y\":1.0,\"yanchor\":\"bottom\",\"yref\":\"paper\"},{\"align\":\"center\",\"font\":{\"size\":9},\"showarrow\":false,\"text\":\"tail1\",\"valign\":\"bottom\",\"x\":12.0,\"xanchor\":\"center\",\"y\":1.0,\"yanchor\":\"bottom\",\"yref\":\"paper\"},{\"align\":\"center\",\"font\":{\"size\":9},\"showarrow\":false,\"text\":\"tail1\",\"valign\":\"bottom\",\"x\":18.0,\"xanchor\":\"center\",\"y\":1.0,\"yanchor\":\"bottom\",\"yref\":\"paper\"},{\"align\":\"center\",\"font\":{\"size\":9},\"showarrow\":false,\"text\":\"tail1\",\"valign\":\"bottom\",\"x\":3.0,\"xanchor\":\"center\",\"y\":1.0,\"yanchor\":\"bottom\",\"yref\":\"paper\"},{\"align\":\"center\",\"font\":{\"size\":9},\"showarrow\":false,\"text\":\"tail1\",\"valign\":\"bottom\",\"x\":9.0,\"xanchor\":\"center\",\"y\":1.0,\"yanchor\":\"bottom\",\"yref\":\"paper\"},{\"align\":\"center\",\"font\":{\"size\":9},\"showarrow\":false,\"text\":\"tail1\",\"valign\":\"bottom\",\"x\":15.0,\"xanchor\":\"center\",\"y\":1.0,\"yanchor\":\"bottom\",\"yref\":\"paper\"},{\"align\":\"center\",\"font\":{\"size\":9},\"showarrow\":false,\"text\":\"tail1\",\"valign\":\"bottom\",\"x\":21.0,\"xanchor\":\"center\",\"y\":1.0,\"yanchor\":\"bottom\",\"yref\":\"paper\"},{\"align\":\"center\",\"font\":{\"size\":9},\"showarrow\":false,\"text\":\"tail2\",\"valign\":\"bottom\",\"x\":1.0,\"xanchor\":\"center\",\"y\":1.0,\"yanchor\":\"bottom\",\"yref\":\"paper\"},{\"align\":\"center\",\"font\":{\"size\":9},\"showarrow\":false,\"text\":\"tail2\",\"valign\":\"bottom\",\"x\":7.0,\"xanchor\":\"center\",\"y\":1.0,\"yanchor\":\"bottom\",\"yref\":\"paper\"},{\"align\":\"center\",\"font\":{\"size\":9},\"showarrow\":false,\"text\":\"tail2\",\"valign\":\"bottom\",\"x\":13.0,\"xanchor\":\"center\",\"y\":1.0,\"yanchor\":\"bottom\",\"yref\":\"paper\"},{\"align\":\"center\",\"font\":{\"size\":9},\"showarrow\":false,\"text\":\"tail2\",\"valign\":\"bottom\",\"x\":19.0,\"xanchor\":\"center\",\"y\":1.0,\"yanchor\":\"bottom\",\"yref\":\"paper\"},{\"align\":\"center\",\"font\":{\"size\":9},\"showarrow\":false,\"text\":\"tail2\",\"valign\":\"bottom\",\"x\":4.0,\"xanchor\":\"center\",\"y\":1.0,\"yanchor\":\"bottom\",\"yref\":\"paper\"},{\"align\":\"center\",\"font\":{\"size\":9},\"showarrow\":false,\"text\":\"tail2\",\"valign\":\"bottom\",\"x\":10.0,\"xanchor\":\"center\",\"y\":1.0,\"yanchor\":\"bottom\",\"yref\":\"paper\"},{\"align\":\"center\",\"font\":{\"size\":9},\"showarrow\":false,\"text\":\"tail2\",\"valign\":\"bottom\",\"x\":16.0,\"xanchor\":\"center\",\"y\":1.0,\"yanchor\":\"bottom\",\"yref\":\"paper\"},{\"align\":\"center\",\"font\":{\"size\":9},\"showarrow\":false,\"text\":\"tail2\",\"valign\":\"bottom\",\"x\":22.0,\"xanchor\":\"center\",\"y\":1.0,\"yanchor\":\"bottom\",\"yref\":\"paper\"},{\"align\":\"center\",\"font\":{\"size\":9},\"showarrow\":false,\"text\":\"tail3\",\"valign\":\"bottom\",\"x\":2.0,\"xanchor\":\"center\",\"y\":1.0,\"yanchor\":\"bottom\",\"yref\":\"paper\"},{\"align\":\"center\",\"font\":{\"size\":9},\"showarrow\":false,\"text\":\"tail3\",\"valign\":\"bottom\",\"x\":8.0,\"xanchor\":\"center\",\"y\":1.0,\"yanchor\":\"bottom\",\"yref\":\"paper\"},{\"align\":\"center\",\"font\":{\"size\":9},\"showarrow\":false,\"text\":\"tail3\",\"valign\":\"bottom\",\"x\":14.0,\"xanchor\":\"center\",\"y\":1.0,\"yanchor\":\"bottom\",\"yref\":\"paper\"},{\"align\":\"center\",\"font\":{\"size\":9},\"showarrow\":false,\"text\":\"tail3\",\"valign\":\"bottom\",\"x\":20.0,\"xanchor\":\"center\",\"y\":1.0,\"yanchor\":\"bottom\",\"yref\":\"paper\"},{\"align\":\"center\",\"font\":{\"size\":9},\"showarrow\":false,\"text\":\"tail3\",\"valign\":\"bottom\",\"x\":5.0,\"xanchor\":\"center\",\"y\":1.0,\"yanchor\":\"bottom\",\"yref\":\"paper\"},{\"align\":\"center\",\"font\":{\"size\":9},\"showarrow\":false,\"text\":\"tail3\",\"valign\":\"bottom\",\"x\":11.0,\"xanchor\":\"center\",\"y\":1.0,\"yanchor\":\"bottom\",\"yref\":\"paper\"},{\"align\":\"center\",\"font\":{\"size\":9},\"showarrow\":false,\"text\":\"tail3\",\"valign\":\"bottom\",\"x\":17.0,\"xanchor\":\"center\",\"y\":1.0,\"yanchor\":\"bottom\",\"yref\":\"paper\"},{\"align\":\"center\",\"font\":{\"size\":9},\"showarrow\":false,\"text\":\"tail3\",\"valign\":\"bottom\",\"x\":23.0,\"xanchor\":\"center\",\"y\":1.0,\"yanchor\":\"bottom\",\"yref\":\"paper\"},{\"align\":\"center\",\"font\":{\"size\":10},\"showarrow\":false,\"text\":\"100\",\"valign\":\"bottom\",\"x\":1.0,\"xanchor\":\"center\",\"y\":1.0833333333333333,\"yanchor\":\"bottom\",\"yref\":\"paper\"},{\"align\":\"center\",\"font\":{\"size\":10},\"showarrow\":false,\"text\":\"100\",\"valign\":\"bottom\",\"x\":7.0,\"xanchor\":\"center\",\"y\":1.0833333333333333,\"yanchor\":\"bottom\",\"yref\":\"paper\"},{\"align\":\"center\",\"font\":{\"size\":10},\"showarrow\":false,\"text\":\"100\",\"valign\":\"bottom\",\"x\":13.0,\"xanchor\":\"center\",\"y\":1.0833333333333333,\"yanchor\":\"bottom\",\"yref\":\"paper\"},{\"align\":\"center\",\"font\":{\"size\":10},\"showarrow\":false,\"text\":\"100\",\"valign\":\"bottom\",\"x\":19.0,\"xanchor\":\"center\",\"y\":1.0833333333333333,\"yanchor\":\"bottom\",\"yref\":\"paper\"},{\"align\":\"center\",\"font\":{\"size\":10},\"showarrow\":false,\"text\":\"200\",\"valign\":\"bottom\",\"x\":4.0,\"xanchor\":\"center\",\"y\":1.0833333333333333,\"yanchor\":\"bottom\",\"yref\":\"paper\"},{\"align\":\"center\",\"font\":{\"size\":10},\"showarrow\":false,\"text\":\"200\",\"valign\":\"bottom\",\"x\":10.0,\"xanchor\":\"center\",\"y\":1.0833333333333333,\"yanchor\":\"bottom\",\"yref\":\"paper\"},{\"align\":\"center\",\"font\":{\"size\":10},\"showarrow\":false,\"text\":\"200\",\"valign\":\"bottom\",\"x\":16.0,\"xanchor\":\"center\",\"y\":1.0833333333333333,\"yanchor\":\"bottom\",\"yref\":\"paper\"},{\"align\":\"center\",\"font\":{\"size\":10},\"showarrow\":false,\"text\":\"200\",\"valign\":\"bottom\",\"x\":22.0,\"xanchor\":\"center\",\"y\":1.0833333333333333,\"yanchor\":\"bottom\",\"yref\":\"paper\"},{\"align\":\"center\",\"font\":{\"size\":12},\"showarrow\":false,\"text\":\"1\",\"valign\":\"bottom\",\"x\":2.5,\"xanchor\":\"center\",\"y\":1.1666666666666667,\"yanchor\":\"bottom\",\"yref\":\"paper\"},{\"align\":\"center\",\"font\":{\"size\":12},\"showarrow\":false,\"text\":\"10\",\"valign\":\"bottom\",\"x\":8.5,\"xanchor\":\"center\",\"y\":1.1666666666666667,\"yanchor\":\"bottom\",\"yref\":\"paper\"},{\"align\":\"center\",\"font\":{\"size\":12},\"showarrow\":false,\"text\":\"100\",\"valign\":\"bottom\",\"x\":14.5,\"xanchor\":\"center\",\"y\":1.1666666666666667,\"yanchor\":\"bottom\",\"yref\":\"paper\"},{\"align\":\"center\",\"font\":{\"size\":12},\"showarrow\":false,\"text\":\"1000\",\"valign\":\"bottom\",\"x\":20.5,\"xanchor\":\"center\",\"y\":1.1666666666666667,\"yanchor\":\"bottom\",\"yref\":\"paper\"}],\"shapes\":[{\"line\":{\"color\":\"Black\",\"width\":0.5},\"type\":\"line\",\"x0\":-0.05,\"x1\":-0.05,\"xref\":\"paper\",\"y0\":-0.4,\"y1\":1.4,\"yref\":\"y\"},{\"line\":{\"color\":\"Black\",\"width\":0.5},\"type\":\"line\",\"x0\":-0.05,\"x1\":-0.05,\"xref\":\"paper\",\"y0\":5.6,\"y1\":7.4,\"yref\":\"y\"},{\"line\":{\"color\":\"Black\",\"width\":0.5},\"type\":\"line\",\"x0\":-0.05,\"x1\":-0.05,\"xref\":\"paper\",\"y0\":1.6,\"y1\":3.4,\"yref\":\"y\"},{\"line\":{\"color\":\"Black\",\"width\":0.5},\"type\":\"line\",\"x0\":-0.05,\"x1\":-0.05,\"xref\":\"paper\",\"y0\":7.6,\"y1\":9.4,\"yref\":\"y\"},{\"line\":{\"color\":\"Black\",\"width\":0.5},\"type\":\"line\",\"x0\":-0.05,\"x1\":-0.05,\"xref\":\"paper\",\"y0\":3.6,\"y1\":5.4,\"yref\":\"y\"},{\"line\":{\"color\":\"Black\",\"width\":0.5},\"type\":\"line\",\"x0\":-0.05,\"x1\":-0.05,\"xref\":\"paper\",\"y0\":9.6,\"y1\":11.4,\"yref\":\"y\"},{\"line\":{\"color\":\"Black\",\"width\":0.5},\"type\":\"line\",\"x0\":-0.1,\"x1\":-0.1,\"xref\":\"paper\",\"y0\":-0.4,\"y1\":5.4,\"yref\":\"y\"},{\"line\":{\"color\":\"Black\",\"width\":0.5},\"type\":\"line\",\"x0\":-0.1,\"x1\":-0.1,\"xref\":\"paper\",\"y0\":5.6,\"y1\":11.4,\"yref\":\"y\"},{\"line\":{\"color\":\"Black\",\"width\":0.5},\"type\":\"line\",\"x0\":-0.4,\"x1\":2.4,\"xref\":\"x\",\"y0\":1.0833333333333333,\"y1\":1.0833333333333333,\"yref\":\"paper\"},{\"line\":{\"color\":\"Black\",\"width\":0.5},\"type\":\"line\",\"x0\":5.6,\"x1\":8.4,\"xref\":\"x\",\"y0\":1.0833333333333333,\"y1\":1.0833333333333333,\"yref\":\"paper\"},{\"line\":{\"color\":\"Black\",\"width\":0.5},\"type\":\"line\",\"x0\":11.6,\"x1\":14.4,\"xref\":\"x\",\"y0\":1.0833333333333333,\"y1\":1.0833333333333333,\"yref\":\"paper\"},{\"line\":{\"color\":\"Black\",\"width\":0.5},\"type\":\"line\",\"x0\":17.6,\"x1\":20.4,\"xref\":\"x\",\"y0\":1.0833333333333333,\"y1\":1.0833333333333333,\"yref\":\"paper\"},{\"line\":{\"color\":\"Black\",\"width\":0.5},\"type\":\"line\",\"x0\":2.6,\"x1\":5.4,\"xref\":\"x\",\"y0\":1.0833333333333333,\"y1\":1.0833333333333333,\"yref\":\"paper\"},{\"line\":{\"color\":\"Black\",\"width\":0.5},\"type\":\"line\",\"x0\":8.6,\"x1\":11.4,\"xref\":\"x\",\"y0\":1.0833333333333333,\"y1\":1.0833333333333333,\"yref\":\"paper\"},{\"line\":{\"color\":\"Black\",\"width\":0.5},\"type\":\"line\",\"x0\":14.6,\"x1\":17.4,\"xref\":\"x\",\"y0\":1.0833333333333333,\"y1\":1.0833333333333333,\"yref\":\"paper\"},{\"line\":{\"color\":\"Black\",\"width\":0.5},\"type\":\"line\",\"x0\":20.6,\"x1\":23.4,\"xref\":\"x\",\"y0\":1.0833333333333333,\"y1\":1.0833333333333333,\"yref\":\"paper\"},{\"line\":{\"color\":\"Black\",\"width\":0.5},\"type\":\"line\",\"x0\":-0.4,\"x1\":5.4,\"xref\":\"x\",\"y0\":1.1666666666666667,\"y1\":1.1666666666666667,\"yref\":\"paper\"},{\"line\":{\"color\":\"Black\",\"width\":0.5},\"type\":\"line\",\"x0\":5.6,\"x1\":11.4,\"xref\":\"x\",\"y0\":1.1666666666666667,\"y1\":1.1666666666666667,\"yref\":\"paper\"},{\"line\":{\"color\":\"Black\",\"width\":0.5},\"type\":\"line\",\"x0\":11.6,\"x1\":17.4,\"xref\":\"x\",\"y0\":1.1666666666666667,\"y1\":1.1666666666666667,\"yref\":\"paper\"},{\"line\":{\"color\":\"Black\",\"width\":0.5},\"type\":\"line\",\"x0\":17.6,\"x1\":23.4,\"xref\":\"x\",\"y0\":1.1666666666666667,\"y1\":1.1666666666666667,\"yref\":\"paper\"}]},                        {\"responsive\": true}                    ).then(function(){\n",
       "                            \n",
       "var gd = document.getElementById('d33d713c-8bed-4e69-8a70-0671f7ea6d03');\n",
       "var x = new MutationObserver(function (mutations, observer) {{\n",
       "        var display = window.getComputedStyle(gd).display;\n",
       "        if (!display || display === 'none') {{\n",
       "            console.log([gd, 'removed!']);\n",
       "            Plotly.purge(gd);\n",
       "            observer.disconnect();\n",
       "        }}\n",
       "}});\n",
       "\n",
       "// Listen for the removal of the full notebook cells\n",
       "var notebookContainer = gd.closest('#notebook-container');\n",
       "if (notebookContainer) {{\n",
       "    x.observe(notebookContainer, {childList: true});\n",
       "}}\n",
       "\n",
       "// Listen for the clearing of the current output cell\n",
       "var outputEl = gd.closest('.output');\n",
       "if (outputEl) {{\n",
       "    x.observe(outputEl, {childList: true});\n",
       "}}\n",
       "\n",
       "                        })                };                });            </script>        </div>"
      ]
     },
     "metadata": {},
     "output_type": "display_data"
    }
   ],
   "source": [
    "feature_ordering = [['polymer_species', 'polymer_density', 'orientation'], ['concentration', 'size', 'tail_species']]\n",
    "heat_df, label_mapping_df, hovertext_df, row_features, col_features = long_to_heat_df(long_df, feature_ordering)\n",
    "\n",
    "row_labels_df = get_label_info(row_features, label_mapping_df, True)\n",
    "col_labels_df = get_label_info(col_features, label_mapping_df, False)\n",
    "\n",
    "fig = dimensional_stacking(heat_df, hovertext_df, row_labels_df, col_labels_df)\n",
    "fig.show()"
   ]
  },
  {
   "cell_type": "code",
   "execution_count": null,
   "id": "3fb3a59a-ef4a-4c9e-85e4-84f5789043fc",
   "metadata": {},
   "outputs": [],
   "source": []
  }
 ],
 "metadata": {
  "kernelspec": {
   "display_name": "Python 3 (ipykernel)",
   "language": "python",
   "name": "python3"
  },
  "language_info": {
   "codemirror_mode": {
    "name": "ipython",
    "version": 3
   },
   "file_extension": ".py",
   "mimetype": "text/x-python",
   "name": "python",
   "nbconvert_exporter": "python",
   "pygments_lexer": "ipython3",
   "version": "3.12.1"
  }
 },
 "nbformat": 4,
 "nbformat_minor": 5
}
